{
 "cells": [
  {
   "cell_type": "code",
   "execution_count": 17,
   "id": "9e395264",
   "metadata": {},
   "outputs": [
    {
     "name": "stdout",
     "output_type": "stream",
     "text": [
      "Requirement already satisfied: autogluon in c:\\users\\joash\\anaconda3\\lib\\site-packages (1.1.0)\n",
      "Requirement already satisfied: autogluon.core[all]==1.1.0 in c:\\users\\joash\\anaconda3\\lib\\site-packages (from autogluon) (1.1.0)\n",
      "Requirement already satisfied: autogluon.features==1.1.0 in c:\\users\\joash\\anaconda3\\lib\\site-packages (from autogluon) (1.1.0)\n",
      "Requirement already satisfied: autogluon.tabular[all]==1.1.0 in c:\\users\\joash\\anaconda3\\lib\\site-packages (from autogluon) (1.1.0)\n",
      "Requirement already satisfied: autogluon.multimodal==1.1.0 in c:\\users\\joash\\anaconda3\\lib\\site-packages (from autogluon) (1.1.0)\n",
      "Requirement already satisfied: autogluon.timeseries[all]==1.1.0 in c:\\users\\joash\\anaconda3\\lib\\site-packages (from autogluon) (1.1.0)\n",
      "Requirement already satisfied: numpy<1.29,>=1.21 in c:\\users\\joash\\anaconda3\\lib\\site-packages (from autogluon.core[all]==1.1.0->autogluon) (1.24.3)\n",
      "Requirement already satisfied: scipy<1.13,>=1.5.4 in c:\\users\\joash\\anaconda3\\lib\\site-packages (from autogluon.core[all]==1.1.0->autogluon) (1.11.1)\n",
      "Requirement already satisfied: scikit-learn<1.4.1,>=1.3.0 in c:\\users\\joash\\anaconda3\\lib\\site-packages (from autogluon.core[all]==1.1.0->autogluon) (1.3.0)\n",
      "Requirement already satisfied: networkx<4,>=3.0 in c:\\users\\joash\\anaconda3\\lib\\site-packages (from autogluon.core[all]==1.1.0->autogluon) (3.1)\n",
      "Requirement already satisfied: pandas<2.3.0,>=2.0.0 in c:\\users\\joash\\anaconda3\\lib\\site-packages (from autogluon.core[all]==1.1.0->autogluon) (2.0.3)\n",
      "Requirement already satisfied: tqdm<5,>=4.38 in c:\\users\\joash\\anaconda3\\lib\\site-packages (from autogluon.core[all]==1.1.0->autogluon) (4.65.0)\n",
      "Requirement already satisfied: requests in c:\\users\\joash\\anaconda3\\lib\\site-packages (from autogluon.core[all]==1.1.0->autogluon) (2.28.2)\n",
      "Requirement already satisfied: matplotlib in c:\\users\\joash\\anaconda3\\lib\\site-packages (from autogluon.core[all]==1.1.0->autogluon) (3.7.2)\n",
      "Requirement already satisfied: boto3<2,>=1.10 in c:\\users\\joash\\anaconda3\\lib\\site-packages (from autogluon.core[all]==1.1.0->autogluon) (1.34.109)\n",
      "Requirement already satisfied: autogluon.common==1.1.0 in c:\\users\\joash\\anaconda3\\lib\\site-packages (from autogluon.core[all]==1.1.0->autogluon) (1.1.0)\n",
      "Requirement already satisfied: ray[default,tune]<2.11,>=2.10.0 in c:\\users\\joash\\anaconda3\\lib\\site-packages (from autogluon.core[all]==1.1.0->autogluon) (2.10.0)\n",
      "Requirement already satisfied: hyperopt<0.2.8,>=0.2.7 in c:\\users\\joash\\anaconda3\\lib\\site-packages (from autogluon.core[all]==1.1.0->autogluon) (0.2.7)\n",
      "Requirement already satisfied: Pillow<11,>=10.0.1 in c:\\users\\joash\\anaconda3\\lib\\site-packages (from autogluon.multimodal==1.1.0->autogluon) (10.0.1)\n",
      "Requirement already satisfied: torch<2.2,>=2.1 in c:\\users\\joash\\anaconda3\\lib\\site-packages (from autogluon.multimodal==1.1.0->autogluon) (2.1.2)\n",
      "Requirement already satisfied: lightning<2.2,>=2.1 in c:\\users\\joash\\anaconda3\\lib\\site-packages (from autogluon.multimodal==1.1.0->autogluon) (2.1.4)\n",
      "Requirement already satisfied: transformers[sentencepiece]<4.39.0,>=4.38.0 in c:\\users\\joash\\anaconda3\\lib\\site-packages (from autogluon.multimodal==1.1.0->autogluon) (4.38.2)\n",
      "Requirement already satisfied: accelerate<0.22.0,>=0.21.0 in c:\\users\\joash\\anaconda3\\lib\\site-packages (from autogluon.multimodal==1.1.0->autogluon) (0.21.0)\n",
      "Requirement already satisfied: jsonschema<4.22,>=4.18 in c:\\users\\joash\\anaconda3\\lib\\site-packages (from autogluon.multimodal==1.1.0->autogluon) (4.21.1)\n",
      "Requirement already satisfied: seqeval<1.3.0,>=1.2.2 in c:\\users\\joash\\anaconda3\\lib\\site-packages (from autogluon.multimodal==1.1.0->autogluon) (1.2.2)\n",
      "Requirement already satisfied: evaluate<0.5.0,>=0.4.0 in c:\\users\\joash\\anaconda3\\lib\\site-packages (from autogluon.multimodal==1.1.0->autogluon) (0.4.2)\n",
      "Requirement already satisfied: timm<0.10.0,>=0.9.5 in c:\\users\\joash\\anaconda3\\lib\\site-packages (from autogluon.multimodal==1.1.0->autogluon) (0.9.16)\n",
      "Requirement already satisfied: torchvision<0.17.0,>=0.16.0 in c:\\users\\joash\\anaconda3\\lib\\site-packages (from autogluon.multimodal==1.1.0->autogluon) (0.16.2)\n",
      "Requirement already satisfied: scikit-image<0.21.0,>=0.19.1 in c:\\users\\joash\\anaconda3\\lib\\site-packages (from autogluon.multimodal==1.1.0->autogluon) (0.20.0)\n",
      "Requirement already satisfied: text-unidecode<1.4,>=1.3 in c:\\users\\joash\\anaconda3\\lib\\site-packages (from autogluon.multimodal==1.1.0->autogluon) (1.3)\n",
      "Requirement already satisfied: torchmetrics<1.3.0,>=1.2.0 in c:\\users\\joash\\anaconda3\\lib\\site-packages (from autogluon.multimodal==1.1.0->autogluon) (1.2.1)\n",
      "Requirement already satisfied: nptyping<2.5.0,>=1.4.4 in c:\\users\\joash\\anaconda3\\lib\\site-packages (from autogluon.multimodal==1.1.0->autogluon) (2.4.1)\n",
      "Requirement already satisfied: omegaconf<2.3.0,>=2.1.1 in c:\\users\\joash\\anaconda3\\lib\\site-packages (from autogluon.multimodal==1.1.0->autogluon) (2.2.3)\n",
      "Requirement already satisfied: pytorch-metric-learning<2.4,>=1.3.0 in c:\\users\\joash\\anaconda3\\lib\\site-packages (from autogluon.multimodal==1.1.0->autogluon) (2.3.0)\n",
      "Requirement already satisfied: nlpaug<1.2.0,>=1.1.10 in c:\\users\\joash\\anaconda3\\lib\\site-packages (from autogluon.multimodal==1.1.0->autogluon) (1.1.11)\n",
      "Requirement already satisfied: nltk<4.0.0,>=3.4.5 in c:\\users\\joash\\anaconda3\\lib\\site-packages (from autogluon.multimodal==1.1.0->autogluon) (3.8.1)\n",
      "Requirement already satisfied: openmim<0.4.0,>=0.3.7 in c:\\users\\joash\\anaconda3\\lib\\site-packages (from autogluon.multimodal==1.1.0->autogluon) (0.3.9)\n",
      "Requirement already satisfied: defusedxml<0.7.2,>=0.7.1 in c:\\users\\joash\\anaconda3\\lib\\site-packages (from autogluon.multimodal==1.1.0->autogluon) (0.7.1)\n",
      "Requirement already satisfied: jinja2<3.2,>=3.0.3 in c:\\users\\joash\\anaconda3\\lib\\site-packages (from autogluon.multimodal==1.1.0->autogluon) (3.1.2)\n",
      "Requirement already satisfied: tensorboard<3,>=2.9 in c:\\users\\joash\\anaconda3\\lib\\site-packages (from autogluon.multimodal==1.1.0->autogluon) (2.15.1)\n",
      "Requirement already satisfied: pytesseract<0.3.11,>=0.3.9 in c:\\users\\joash\\anaconda3\\lib\\site-packages (from autogluon.multimodal==1.1.0->autogluon) (0.3.10)\n",
      "Requirement already satisfied: nvidia-ml-py3==7.352.0 in c:\\users\\joash\\anaconda3\\lib\\site-packages (from autogluon.multimodal==1.1.0->autogluon) (7.352.0)\n",
      "Requirement already satisfied: pdf2image<1.19,>=1.17.0 in c:\\users\\joash\\anaconda3\\lib\\site-packages (from autogluon.multimodal==1.1.0->autogluon) (1.17.0)\n",
      "Requirement already satisfied: xgboost<2.1,>=1.6 in c:\\users\\joash\\anaconda3\\lib\\site-packages (from autogluon.tabular[all]==1.1.0->autogluon) (2.0.3)\n",
      "Requirement already satisfied: fastai<2.8,>=2.3.1 in c:\\users\\joash\\anaconda3\\lib\\site-packages (from autogluon.tabular[all]==1.1.0->autogluon) (2.7.14)\n",
      "Requirement already satisfied: lightgbm<4.4,>=3.3 in c:\\users\\joash\\anaconda3\\lib\\site-packages (from autogluon.tabular[all]==1.1.0->autogluon) (4.3.0)\n",
      "Requirement already satisfied: catboost<1.3,>=1.1 in c:\\users\\joash\\anaconda3\\lib\\site-packages (from autogluon.tabular[all]==1.1.0->autogluon) (1.2.5)\n",
      "Requirement already satisfied: joblib<2,>=1.1 in c:\\users\\joash\\anaconda3\\lib\\site-packages (from autogluon.timeseries[all]==1.1.0->autogluon) (1.2.0)\n",
      "Requirement already satisfied: pytorch-lightning<2.2,>=2.1 in c:\\users\\joash\\anaconda3\\lib\\site-packages (from autogluon.timeseries[all]==1.1.0->autogluon) (2.1.4)\n",
      "Requirement already satisfied: gluonts<0.14.4,>=0.14.0 in c:\\users\\joash\\anaconda3\\lib\\site-packages (from autogluon.timeseries[all]==1.1.0->autogluon) (0.14.3)\n",
      "Requirement already satisfied: statsforecast<1.5,>=1.4.0 in c:\\users\\joash\\anaconda3\\lib\\site-packages (from autogluon.timeseries[all]==1.1.0->autogluon) (1.4.0)\n",
      "Requirement already satisfied: mlforecast<0.10.1,>=0.10.0 in c:\\users\\joash\\anaconda3\\lib\\site-packages (from autogluon.timeseries[all]==1.1.0->autogluon) (0.10.0)\n",
      "Requirement already satisfied: utilsforecast<0.0.11,>=0.0.10 in c:\\users\\joash\\anaconda3\\lib\\site-packages (from autogluon.timeseries[all]==1.1.0->autogluon) (0.0.10)\n",
      "Requirement already satisfied: orjson~=3.9 in c:\\users\\joash\\anaconda3\\lib\\site-packages (from autogluon.timeseries[all]==1.1.0->autogluon) (3.10.3)\n",
      "Requirement already satisfied: optimum[onnxruntime]<1.19,>=1.17 in c:\\users\\joash\\anaconda3\\lib\\site-packages (from autogluon.timeseries[all]==1.1.0->autogluon) (1.18.1)\n",
      "Requirement already satisfied: psutil<6,>=5.7.3 in c:\\users\\joash\\anaconda3\\lib\\site-packages (from autogluon.common==1.1.0->autogluon.core[all]==1.1.0->autogluon) (5.9.0)\n",
      "Requirement already satisfied: setuptools in c:\\users\\joash\\anaconda3\\lib\\site-packages (from autogluon.common==1.1.0->autogluon.core[all]==1.1.0->autogluon) (60.2.0)\n",
      "Requirement already satisfied: packaging>=20.0 in c:\\users\\joash\\anaconda3\\lib\\site-packages (from accelerate<0.22.0,>=0.21.0->autogluon.multimodal==1.1.0->autogluon) (23.1)\n",
      "Requirement already satisfied: pyyaml in c:\\users\\joash\\anaconda3\\lib\\site-packages (from accelerate<0.22.0,>=0.21.0->autogluon.multimodal==1.1.0->autogluon) (6.0)\n",
      "Requirement already satisfied: botocore<1.35.0,>=1.34.109 in c:\\users\\joash\\anaconda3\\lib\\site-packages (from boto3<2,>=1.10->autogluon.core[all]==1.1.0->autogluon) (1.34.109)\n",
      "Requirement already satisfied: jmespath<2.0.0,>=0.7.1 in c:\\users\\joash\\anaconda3\\lib\\site-packages (from boto3<2,>=1.10->autogluon.core[all]==1.1.0->autogluon) (0.10.0)\n",
      "Requirement already satisfied: s3transfer<0.11.0,>=0.10.0 in c:\\users\\joash\\anaconda3\\lib\\site-packages (from boto3<2,>=1.10->autogluon.core[all]==1.1.0->autogluon) (0.10.1)\n",
      "Requirement already satisfied: graphviz in c:\\users\\joash\\anaconda3\\lib\\site-packages (from catboost<1.3,>=1.1->autogluon.tabular[all]==1.1.0->autogluon) (0.20.3)\n",
      "Requirement already satisfied: plotly in c:\\users\\joash\\anaconda3\\lib\\site-packages (from catboost<1.3,>=1.1->autogluon.tabular[all]==1.1.0->autogluon) (5.9.0)\n",
      "Requirement already satisfied: six in c:\\users\\joash\\anaconda3\\lib\\site-packages (from catboost<1.3,>=1.1->autogluon.tabular[all]==1.1.0->autogluon) (1.16.0)\n",
      "Requirement already satisfied: datasets>=2.0.0 in c:\\users\\joash\\anaconda3\\lib\\site-packages (from evaluate<0.5.0,>=0.4.0->autogluon.multimodal==1.1.0->autogluon) (2.12.0)\n",
      "Requirement already satisfied: dill in c:\\users\\joash\\anaconda3\\lib\\site-packages (from evaluate<0.5.0,>=0.4.0->autogluon.multimodal==1.1.0->autogluon) (0.3.6)\n",
      "Requirement already satisfied: xxhash in c:\\users\\joash\\anaconda3\\lib\\site-packages (from evaluate<0.5.0,>=0.4.0->autogluon.multimodal==1.1.0->autogluon) (2.0.2)\n",
      "Requirement already satisfied: multiprocess in c:\\users\\joash\\anaconda3\\lib\\site-packages (from evaluate<0.5.0,>=0.4.0->autogluon.multimodal==1.1.0->autogluon) (0.70.14)\n",
      "Requirement already satisfied: fsspec[http]>=2021.05.0 in c:\\users\\joash\\anaconda3\\lib\\site-packages (from evaluate<0.5.0,>=0.4.0->autogluon.multimodal==1.1.0->autogluon) (2024.5.0)\n",
      "Requirement already satisfied: huggingface-hub>=0.7.0 in c:\\users\\joash\\anaconda3\\lib\\site-packages (from evaluate<0.5.0,>=0.4.0->autogluon.multimodal==1.1.0->autogluon) (0.23.0)\n",
      "Requirement already satisfied: pip in c:\\users\\joash\\anaconda3\\lib\\site-packages (from fastai<2.8,>=2.3.1->autogluon.tabular[all]==1.1.0->autogluon) (23.2.1)\n",
      "Requirement already satisfied: fastdownload<2,>=0.0.5 in c:\\users\\joash\\anaconda3\\lib\\site-packages (from fastai<2.8,>=2.3.1->autogluon.tabular[all]==1.1.0->autogluon) (0.0.7)\n",
      "Requirement already satisfied: fastcore<1.6,>=1.5.29 in c:\\users\\joash\\anaconda3\\lib\\site-packages (from fastai<2.8,>=2.3.1->autogluon.tabular[all]==1.1.0->autogluon) (1.5.29)\n",
      "Requirement already satisfied: fastprogress>=0.2.4 in c:\\users\\joash\\anaconda3\\lib\\site-packages (from fastai<2.8,>=2.3.1->autogluon.tabular[all]==1.1.0->autogluon) (1.0.3)\n",
      "Requirement already satisfied: spacy<4 in c:\\users\\joash\\anaconda3\\lib\\site-packages (from fastai<2.8,>=2.3.1->autogluon.tabular[all]==1.1.0->autogluon) (3.7.4)\n",
      "Requirement already satisfied: pydantic<3,>=1.7 in c:\\users\\joash\\anaconda3\\lib\\site-packages (from gluonts<0.14.4,>=0.14.0->autogluon.timeseries[all]==1.1.0->autogluon) (1.10.8)\n",
      "Requirement already satisfied: toolz~=0.10 in c:\\users\\joash\\anaconda3\\lib\\site-packages (from gluonts<0.14.4,>=0.14.0->autogluon.timeseries[all]==1.1.0->autogluon) (0.12.0)\n",
      "Requirement already satisfied: typing-extensions~=4.0 in c:\\users\\joash\\anaconda3\\lib\\site-packages (from gluonts<0.14.4,>=0.14.0->autogluon.timeseries[all]==1.1.0->autogluon) (4.10.0)\n",
      "Requirement already satisfied: future in c:\\users\\joash\\anaconda3\\lib\\site-packages (from hyperopt<0.2.8,>=0.2.7->autogluon.core[all]==1.1.0->autogluon) (0.18.3)\n",
      "Requirement already satisfied: cloudpickle in c:\\users\\joash\\anaconda3\\lib\\site-packages (from hyperopt<0.2.8,>=0.2.7->autogluon.core[all]==1.1.0->autogluon) (2.2.1)\n",
      "Requirement already satisfied: py4j in c:\\users\\joash\\anaconda3\\lib\\site-packages (from hyperopt<0.2.8,>=0.2.7->autogluon.core[all]==1.1.0->autogluon) (0.10.9.7)\n",
      "Requirement already satisfied: MarkupSafe>=2.0 in c:\\users\\joash\\anaconda3\\lib\\site-packages (from jinja2<3.2,>=3.0.3->autogluon.multimodal==1.1.0->autogluon) (2.1.1)\n",
      "Requirement already satisfied: attrs>=22.2.0 in c:\\users\\joash\\anaconda3\\lib\\site-packages (from jsonschema<4.22,>=4.18->autogluon.multimodal==1.1.0->autogluon) (23.2.0)\n",
      "Requirement already satisfied: jsonschema-specifications>=2023.03.6 in c:\\users\\joash\\anaconda3\\lib\\site-packages (from jsonschema<4.22,>=4.18->autogluon.multimodal==1.1.0->autogluon) (2023.12.1)\n",
      "Requirement already satisfied: referencing>=0.28.4 in c:\\users\\joash\\anaconda3\\lib\\site-packages (from jsonschema<4.22,>=4.18->autogluon.multimodal==1.1.0->autogluon) (0.35.1)\n",
      "Requirement already satisfied: rpds-py>=0.7.1 in c:\\users\\joash\\anaconda3\\lib\\site-packages (from jsonschema<4.22,>=4.18->autogluon.multimodal==1.1.0->autogluon) (0.18.1)\n",
      "Requirement already satisfied: lightning-utilities<2.0,>=0.8.0 in c:\\users\\joash\\anaconda3\\lib\\site-packages (from lightning<2.2,>=2.1->autogluon.multimodal==1.1.0->autogluon) (0.11.2)\n",
      "Requirement already satisfied: numba in c:\\users\\joash\\anaconda3\\lib\\site-packages (from mlforecast<0.10.1,>=0.10.0->autogluon.timeseries[all]==1.1.0->autogluon) (0.57.1)\n",
      "Requirement already satisfied: window-ops in c:\\users\\joash\\anaconda3\\lib\\site-packages (from mlforecast<0.10.1,>=0.10.0->autogluon.timeseries[all]==1.1.0->autogluon) (0.0.15)\n",
      "Requirement already satisfied: gdown>=4.0.0 in c:\\users\\joash\\anaconda3\\lib\\site-packages (from nlpaug<1.2.0,>=1.1.10->autogluon.multimodal==1.1.0->autogluon) (5.2.0)\n",
      "Requirement already satisfied: click in c:\\users\\joash\\anaconda3\\lib\\site-packages (from nltk<4.0.0,>=3.4.5->autogluon.multimodal==1.1.0->autogluon) (8.0.4)\n",
      "Requirement already satisfied: regex>=2021.8.3 in c:\\users\\joash\\anaconda3\\lib\\site-packages (from nltk<4.0.0,>=3.4.5->autogluon.multimodal==1.1.0->autogluon) (2022.7.9)\n",
      "Requirement already satisfied: antlr4-python3-runtime==4.9.* in c:\\users\\joash\\anaconda3\\lib\\site-packages (from omegaconf<2.3.0,>=2.1.1->autogluon.multimodal==1.1.0->autogluon) (4.9.3)\n",
      "Requirement already satisfied: colorama in c:\\users\\joash\\anaconda3\\lib\\site-packages (from openmim<0.4.0,>=0.3.7->autogluon.multimodal==1.1.0->autogluon) (0.4.6)\n",
      "Requirement already satisfied: model-index in c:\\users\\joash\\anaconda3\\lib\\site-packages (from openmim<0.4.0,>=0.3.7->autogluon.multimodal==1.1.0->autogluon) (0.1.11)\n",
      "Requirement already satisfied: opendatalab in c:\\users\\joash\\anaconda3\\lib\\site-packages (from openmim<0.4.0,>=0.3.7->autogluon.multimodal==1.1.0->autogluon) (0.0.10)\n",
      "Requirement already satisfied: rich in c:\\users\\joash\\anaconda3\\lib\\site-packages (from openmim<0.4.0,>=0.3.7->autogluon.multimodal==1.1.0->autogluon) (13.4.2)\n",
      "Requirement already satisfied: tabulate in c:\\users\\joash\\anaconda3\\lib\\site-packages (from openmim<0.4.0,>=0.3.7->autogluon.multimodal==1.1.0->autogluon) (0.8.10)\n",
      "Requirement already satisfied: coloredlogs in c:\\users\\joash\\anaconda3\\lib\\site-packages (from optimum[onnxruntime]<1.19,>=1.17->autogluon.timeseries[all]==1.1.0->autogluon) (15.0.1)\n",
      "Requirement already satisfied: sympy in c:\\users\\joash\\anaconda3\\lib\\site-packages (from optimum[onnxruntime]<1.19,>=1.17->autogluon.timeseries[all]==1.1.0->autogluon) (1.11.1)\n",
      "Requirement already satisfied: onnx in c:\\users\\joash\\anaconda3\\lib\\site-packages (from optimum[onnxruntime]<1.19,>=1.17->autogluon.timeseries[all]==1.1.0->autogluon) (1.16.0)\n",
      "Requirement already satisfied: onnxruntime>=1.11.0 in c:\\users\\joash\\anaconda3\\lib\\site-packages (from optimum[onnxruntime]<1.19,>=1.17->autogluon.timeseries[all]==1.1.0->autogluon) (1.18.0)\n",
      "Requirement already satisfied: protobuf>=3.20.1 in c:\\users\\joash\\anaconda3\\lib\\site-packages (from optimum[onnxruntime]<1.19,>=1.17->autogluon.timeseries[all]==1.1.0->autogluon) (4.23.4)\n",
      "Requirement already satisfied: python-dateutil>=2.8.2 in c:\\users\\joash\\anaconda3\\lib\\site-packages (from pandas<2.3.0,>=2.0.0->autogluon.core[all]==1.1.0->autogluon) (2.8.2)\n",
      "Requirement already satisfied: pytz>=2020.1 in c:\\users\\joash\\anaconda3\\lib\\site-packages (from pandas<2.3.0,>=2.0.0->autogluon.core[all]==1.1.0->autogluon) (2023.3.post1)\n",
      "Requirement already satisfied: tzdata>=2022.1 in c:\\users\\joash\\anaconda3\\lib\\site-packages (from pandas<2.3.0,>=2.0.0->autogluon.core[all]==1.1.0->autogluon) (2023.3)\n",
      "Requirement already satisfied: filelock in c:\\users\\joash\\anaconda3\\lib\\site-packages (from ray[default,tune]<2.11,>=2.10.0->autogluon.core[all]==1.1.0->autogluon) (3.14.0)\n",
      "Requirement already satisfied: msgpack<2.0.0,>=1.0.0 in c:\\users\\joash\\anaconda3\\lib\\site-packages (from ray[default,tune]<2.11,>=2.10.0->autogluon.core[all]==1.1.0->autogluon) (1.0.3)\n",
      "Requirement already satisfied: aiosignal in c:\\users\\joash\\anaconda3\\lib\\site-packages (from ray[default,tune]<2.11,>=2.10.0->autogluon.core[all]==1.1.0->autogluon) (1.2.0)\n",
      "Requirement already satisfied: frozenlist in c:\\users\\joash\\anaconda3\\lib\\site-packages (from ray[default,tune]<2.11,>=2.10.0->autogluon.core[all]==1.1.0->autogluon) (1.3.3)\n",
      "Requirement already satisfied: aiohttp>=3.7 in c:\\users\\joash\\anaconda3\\lib\\site-packages (from ray[default,tune]<2.11,>=2.10.0->autogluon.core[all]==1.1.0->autogluon) (3.8.5)\n",
      "Requirement already satisfied: aiohttp-cors in c:\\users\\joash\\anaconda3\\lib\\site-packages (from ray[default,tune]<2.11,>=2.10.0->autogluon.core[all]==1.1.0->autogluon) (0.7.0)\n",
      "Requirement already satisfied: colorful in c:\\users\\joash\\anaconda3\\lib\\site-packages (from ray[default,tune]<2.11,>=2.10.0->autogluon.core[all]==1.1.0->autogluon) (0.5.6)\n",
      "Requirement already satisfied: py-spy>=0.2.0 in c:\\users\\joash\\anaconda3\\lib\\site-packages (from ray[default,tune]<2.11,>=2.10.0->autogluon.core[all]==1.1.0->autogluon) (0.3.14)\n",
      "Requirement already satisfied: opencensus in c:\\users\\joash\\anaconda3\\lib\\site-packages (from ray[default,tune]<2.11,>=2.10.0->autogluon.core[all]==1.1.0->autogluon) (0.11.4)\n",
      "Requirement already satisfied: prometheus-client>=0.7.1 in c:\\users\\joash\\anaconda3\\lib\\site-packages (from ray[default,tune]<2.11,>=2.10.0->autogluon.core[all]==1.1.0->autogluon) (0.14.1)\n",
      "Requirement already satisfied: smart-open in c:\\users\\joash\\anaconda3\\lib\\site-packages (from ray[default,tune]<2.11,>=2.10.0->autogluon.core[all]==1.1.0->autogluon) (5.2.1)\n",
      "Requirement already satisfied: virtualenv!=20.21.1,>=20.0.24 in c:\\users\\joash\\anaconda3\\lib\\site-packages (from ray[default,tune]<2.11,>=2.10.0->autogluon.core[all]==1.1.0->autogluon) (20.26.2)\n",
      "Requirement already satisfied: grpcio>=1.42.0 in c:\\users\\joash\\anaconda3\\lib\\site-packages (from ray[default,tune]<2.11,>=2.10.0->autogluon.core[all]==1.1.0->autogluon) (1.60.0)\n",
      "Requirement already satisfied: tensorboardX>=1.9 in c:\\users\\joash\\anaconda3\\lib\\site-packages (from ray[default,tune]<2.11,>=2.10.0->autogluon.core[all]==1.1.0->autogluon) (2.6.2.2)\n",
      "Requirement already satisfied: pyarrow>=6.0.1 in c:\\users\\joash\\anaconda3\\lib\\site-packages (from ray[default,tune]<2.11,>=2.10.0->autogluon.core[all]==1.1.0->autogluon) (11.0.0)\n",
      "Requirement already satisfied: charset-normalizer<4,>=2 in c:\\users\\joash\\anaconda3\\lib\\site-packages (from requests->autogluon.core[all]==1.1.0->autogluon) (2.0.4)\n",
      "Requirement already satisfied: idna<4,>=2.5 in c:\\users\\joash\\anaconda3\\lib\\site-packages (from requests->autogluon.core[all]==1.1.0->autogluon) (3.4)\n",
      "Requirement already satisfied: urllib3<1.27,>=1.21.1 in c:\\users\\joash\\anaconda3\\lib\\site-packages (from requests->autogluon.core[all]==1.1.0->autogluon) (1.26.16)\n",
      "Requirement already satisfied: certifi>=2017.4.17 in c:\\users\\joash\\anaconda3\\lib\\site-packages (from requests->autogluon.core[all]==1.1.0->autogluon) (2024.2.2)\n",
      "Requirement already satisfied: imageio>=2.4.1 in c:\\users\\joash\\anaconda3\\lib\\site-packages (from scikit-image<0.21.0,>=0.19.1->autogluon.multimodal==1.1.0->autogluon) (2.26.0)\n",
      "Requirement already satisfied: tifffile>=2019.7.26 in c:\\users\\joash\\anaconda3\\lib\\site-packages (from scikit-image<0.21.0,>=0.19.1->autogluon.multimodal==1.1.0->autogluon) (2023.4.12)\n",
      "Requirement already satisfied: PyWavelets>=1.1.1 in c:\\users\\joash\\anaconda3\\lib\\site-packages (from scikit-image<0.21.0,>=0.19.1->autogluon.multimodal==1.1.0->autogluon) (1.4.1)\n",
      "Requirement already satisfied: lazy_loader>=0.1 in c:\\users\\joash\\anaconda3\\lib\\site-packages (from scikit-image<0.21.0,>=0.19.1->autogluon.multimodal==1.1.0->autogluon) (0.2)\n",
      "Requirement already satisfied: threadpoolctl>=2.0.0 in c:\\users\\joash\\anaconda3\\lib\\site-packages (from scikit-learn<1.4.1,>=1.3.0->autogluon.core[all]==1.1.0->autogluon) (2.2.0)\n",
      "Requirement already satisfied: statsmodels>=0.13.2 in c:\\users\\joash\\anaconda3\\lib\\site-packages (from statsforecast<1.5,>=1.4.0->autogluon.timeseries[all]==1.1.0->autogluon) (0.14.0)\n",
      "Requirement already satisfied: absl-py>=0.4 in c:\\users\\joash\\anaconda3\\lib\\site-packages (from tensorboard<3,>=2.9->autogluon.multimodal==1.1.0->autogluon) (2.1.0)\n",
      "Requirement already satisfied: google-auth<3,>=1.6.3 in c:\\users\\joash\\anaconda3\\lib\\site-packages (from tensorboard<3,>=2.9->autogluon.multimodal==1.1.0->autogluon) (2.26.2)\n",
      "Requirement already satisfied: google-auth-oauthlib<2,>=0.5 in c:\\users\\joash\\anaconda3\\lib\\site-packages (from tensorboard<3,>=2.9->autogluon.multimodal==1.1.0->autogluon) (1.2.0)\n",
      "Requirement already satisfied: markdown>=2.6.8 in c:\\users\\joash\\anaconda3\\lib\\site-packages (from tensorboard<3,>=2.9->autogluon.multimodal==1.1.0->autogluon) (3.4.1)\n",
      "Requirement already satisfied: tensorboard-data-server<0.8.0,>=0.7.0 in c:\\users\\joash\\anaconda3\\lib\\site-packages (from tensorboard<3,>=2.9->autogluon.multimodal==1.1.0->autogluon) (0.7.2)\n",
      "Requirement already satisfied: werkzeug>=1.0.1 in c:\\users\\joash\\anaconda3\\lib\\site-packages (from tensorboard<3,>=2.9->autogluon.multimodal==1.1.0->autogluon) (2.2.3)\n",
      "Requirement already satisfied: safetensors in c:\\users\\joash\\anaconda3\\lib\\site-packages (from timm<0.10.0,>=0.9.5->autogluon.multimodal==1.1.0->autogluon) (0.4.3)\n",
      "Requirement already satisfied: tokenizers<0.19,>=0.14 in c:\\users\\joash\\anaconda3\\lib\\site-packages (from transformers[sentencepiece]<4.39.0,>=4.38.0->autogluon.multimodal==1.1.0->autogluon) (0.15.2)\n",
      "Requirement already satisfied: sentencepiece!=0.1.92,>=0.1.91 in c:\\users\\joash\\anaconda3\\lib\\site-packages (from transformers[sentencepiece]<4.39.0,>=4.38.0->autogluon.multimodal==1.1.0->autogluon) (0.2.0)\n",
      "Requirement already satisfied: contourpy>=1.0.1 in c:\\users\\joash\\anaconda3\\lib\\site-packages (from matplotlib->autogluon.core[all]==1.1.0->autogluon) (1.0.5)\n",
      "Requirement already satisfied: cycler>=0.10 in c:\\users\\joash\\anaconda3\\lib\\site-packages (from matplotlib->autogluon.core[all]==1.1.0->autogluon) (0.11.0)\n",
      "Requirement already satisfied: fonttools>=4.22.0 in c:\\users\\joash\\anaconda3\\lib\\site-packages (from matplotlib->autogluon.core[all]==1.1.0->autogluon) (4.25.0)\n",
      "Requirement already satisfied: kiwisolver>=1.0.1 in c:\\users\\joash\\anaconda3\\lib\\site-packages (from matplotlib->autogluon.core[all]==1.1.0->autogluon) (1.4.4)\n",
      "Requirement already satisfied: pyparsing<3.1,>=2.3.1 in c:\\users\\joash\\anaconda3\\lib\\site-packages (from matplotlib->autogluon.core[all]==1.1.0->autogluon) (3.0.9)\n",
      "Requirement already satisfied: multidict<7.0,>=4.5 in c:\\users\\joash\\anaconda3\\lib\\site-packages (from aiohttp>=3.7->ray[default,tune]<2.11,>=2.10.0->autogluon.core[all]==1.1.0->autogluon) (6.0.2)\n",
      "Requirement already satisfied: async-timeout<5.0,>=4.0.0a3 in c:\\users\\joash\\anaconda3\\lib\\site-packages (from aiohttp>=3.7->ray[default,tune]<2.11,>=2.10.0->autogluon.core[all]==1.1.0->autogluon) (4.0.2)\n",
      "Requirement already satisfied: yarl<2.0,>=1.0 in c:\\users\\joash\\anaconda3\\lib\\site-packages (from aiohttp>=3.7->ray[default,tune]<2.11,>=2.10.0->autogluon.core[all]==1.1.0->autogluon) (1.8.1)\n",
      "Requirement already satisfied: responses<0.19 in c:\\users\\joash\\anaconda3\\lib\\site-packages (from datasets>=2.0.0->evaluate<0.5.0,>=0.4.0->autogluon.multimodal==1.1.0->autogluon) (0.13.3)\n",
      "Requirement already satisfied: beautifulsoup4 in c:\\users\\joash\\anaconda3\\lib\\site-packages (from gdown>=4.0.0->nlpaug<1.2.0,>=1.1.10->autogluon.multimodal==1.1.0->autogluon) (4.12.2)\n",
      "Requirement already satisfied: cachetools<6.0,>=2.0.0 in c:\\users\\joash\\anaconda3\\lib\\site-packages (from google-auth<3,>=1.6.3->tensorboard<3,>=2.9->autogluon.multimodal==1.1.0->autogluon) (5.3.2)\n",
      "Requirement already satisfied: pyasn1-modules>=0.2.1 in c:\\users\\joash\\anaconda3\\lib\\site-packages (from google-auth<3,>=1.6.3->tensorboard<3,>=2.9->autogluon.multimodal==1.1.0->autogluon) (0.2.8)\n",
      "Requirement already satisfied: rsa<5,>=3.1.4 in c:\\users\\joash\\anaconda3\\lib\\site-packages (from google-auth<3,>=1.6.3->tensorboard<3,>=2.9->autogluon.multimodal==1.1.0->autogluon) (4.9)\n",
      "Requirement already satisfied: requests-oauthlib>=0.7.0 in c:\\users\\joash\\anaconda3\\lib\\site-packages (from google-auth-oauthlib<2,>=0.5->tensorboard<3,>=2.9->autogluon.multimodal==1.1.0->autogluon) (1.3.1)\n",
      "Requirement already satisfied: llvmlite<0.41,>=0.40.0dev0 in c:\\users\\joash\\anaconda3\\lib\\site-packages (from numba->mlforecast<0.10.1,>=0.10.0->autogluon.timeseries[all]==1.1.0->autogluon) (0.40.0)\n",
      "Requirement already satisfied: flatbuffers in c:\\users\\joash\\anaconda3\\lib\\site-packages (from onnxruntime>=1.11.0->optimum[onnxruntime]<1.19,>=1.17->autogluon.timeseries[all]==1.1.0->autogluon) (23.5.26)\n",
      "Requirement already satisfied: spacy-legacy<3.1.0,>=3.0.11 in c:\\users\\joash\\anaconda3\\lib\\site-packages (from spacy<4->fastai<2.8,>=2.3.1->autogluon.tabular[all]==1.1.0->autogluon) (3.0.12)\n",
      "Requirement already satisfied: spacy-loggers<2.0.0,>=1.0.0 in c:\\users\\joash\\anaconda3\\lib\\site-packages (from spacy<4->fastai<2.8,>=2.3.1->autogluon.tabular[all]==1.1.0->autogluon) (1.0.5)\n",
      "Requirement already satisfied: murmurhash<1.1.0,>=0.28.0 in c:\\users\\joash\\anaconda3\\lib\\site-packages (from spacy<4->fastai<2.8,>=2.3.1->autogluon.tabular[all]==1.1.0->autogluon) (1.0.10)\n",
      "Requirement already satisfied: cymem<2.1.0,>=2.0.2 in c:\\users\\joash\\anaconda3\\lib\\site-packages (from spacy<4->fastai<2.8,>=2.3.1->autogluon.tabular[all]==1.1.0->autogluon) (2.0.8)\n",
      "Requirement already satisfied: preshed<3.1.0,>=3.0.2 in c:\\users\\joash\\anaconda3\\lib\\site-packages (from spacy<4->fastai<2.8,>=2.3.1->autogluon.tabular[all]==1.1.0->autogluon) (3.0.9)\n",
      "Requirement already satisfied: thinc<8.3.0,>=8.2.2 in c:\\users\\joash\\anaconda3\\lib\\site-packages (from spacy<4->fastai<2.8,>=2.3.1->autogluon.tabular[all]==1.1.0->autogluon) (8.2.3)\n",
      "Requirement already satisfied: wasabi<1.2.0,>=0.9.1 in c:\\users\\joash\\anaconda3\\lib\\site-packages (from spacy<4->fastai<2.8,>=2.3.1->autogluon.tabular[all]==1.1.0->autogluon) (1.1.2)\n",
      "Requirement already satisfied: srsly<3.0.0,>=2.4.3 in c:\\users\\joash\\anaconda3\\lib\\site-packages (from spacy<4->fastai<2.8,>=2.3.1->autogluon.tabular[all]==1.1.0->autogluon) (2.4.8)\n",
      "Requirement already satisfied: catalogue<2.1.0,>=2.0.6 in c:\\users\\joash\\anaconda3\\lib\\site-packages (from spacy<4->fastai<2.8,>=2.3.1->autogluon.tabular[all]==1.1.0->autogluon) (2.0.10)\n",
      "Requirement already satisfied: weasel<0.4.0,>=0.1.0 in c:\\users\\joash\\anaconda3\\lib\\site-packages (from spacy<4->fastai<2.8,>=2.3.1->autogluon.tabular[all]==1.1.0->autogluon) (0.3.4)\n",
      "Requirement already satisfied: typer<0.10.0,>=0.3.0 in c:\\users\\joash\\anaconda3\\lib\\site-packages (from spacy<4->fastai<2.8,>=2.3.1->autogluon.tabular[all]==1.1.0->autogluon) (0.9.4)\n",
      "Requirement already satisfied: langcodes<4.0.0,>=3.2.0 in c:\\users\\joash\\anaconda3\\lib\\site-packages (from spacy<4->fastai<2.8,>=2.3.1->autogluon.tabular[all]==1.1.0->autogluon) (3.3.0)\n",
      "Requirement already satisfied: patsy>=0.5.2 in c:\\users\\joash\\anaconda3\\lib\\site-packages (from statsmodels>=0.13.2->statsforecast<1.5,>=1.4.0->autogluon.timeseries[all]==1.1.0->autogluon) (0.5.3)\n",
      "Requirement already satisfied: distlib<1,>=0.3.7 in c:\\users\\joash\\anaconda3\\lib\\site-packages (from virtualenv!=20.21.1,>=20.0.24->ray[default,tune]<2.11,>=2.10.0->autogluon.core[all]==1.1.0->autogluon) (0.3.8)\n",
      "Requirement already satisfied: platformdirs<5,>=3.9.1 in c:\\users\\joash\\anaconda3\\lib\\site-packages (from virtualenv!=20.21.1,>=20.0.24->ray[default,tune]<2.11,>=2.10.0->autogluon.core[all]==1.1.0->autogluon) (3.10.0)\n",
      "Requirement already satisfied: humanfriendly>=9.1 in c:\\users\\joash\\anaconda3\\lib\\site-packages (from coloredlogs->optimum[onnxruntime]<1.19,>=1.17->autogluon.timeseries[all]==1.1.0->autogluon) (10.0)\n",
      "Requirement already satisfied: ordered-set in c:\\users\\joash\\anaconda3\\lib\\site-packages (from model-index->openmim<0.4.0,>=0.3.7->autogluon.multimodal==1.1.0->autogluon) (4.1.0)\n",
      "Requirement already satisfied: opencensus-context>=0.1.3 in c:\\users\\joash\\anaconda3\\lib\\site-packages (from opencensus->ray[default,tune]<2.11,>=2.10.0->autogluon.core[all]==1.1.0->autogluon) (0.1.3)\n",
      "Requirement already satisfied: google-api-core<3.0.0,>=1.0.0 in c:\\users\\joash\\anaconda3\\lib\\site-packages (from opencensus->ray[default,tune]<2.11,>=2.10.0->autogluon.core[all]==1.1.0->autogluon) (2.19.0)\n",
      "Requirement already satisfied: pycryptodome in c:\\users\\joash\\anaconda3\\lib\\site-packages (from opendatalab->openmim<0.4.0,>=0.3.7->autogluon.multimodal==1.1.0->autogluon) (3.20.0)\n",
      "Requirement already satisfied: openxlab in c:\\users\\joash\\anaconda3\\lib\\site-packages (from opendatalab->openmim<0.4.0,>=0.3.7->autogluon.multimodal==1.1.0->autogluon) (0.0.38)\n",
      "Requirement already satisfied: pywin32 in c:\\users\\joash\\anaconda3\\lib\\site-packages (from opendatalab->openmim<0.4.0,>=0.3.7->autogluon.multimodal==1.1.0->autogluon) (305.1)\n",
      "Requirement already satisfied: tenacity>=6.2.0 in c:\\users\\joash\\anaconda3\\lib\\site-packages (from plotly->catboost<1.3,>=1.1->autogluon.tabular[all]==1.1.0->autogluon) (8.2.2)\n",
      "Requirement already satisfied: markdown-it-py>=2.2.0 in c:\\users\\joash\\anaconda3\\lib\\site-packages (from rich->openmim<0.4.0,>=0.3.7->autogluon.multimodal==1.1.0->autogluon) (2.2.0)\n",
      "Requirement already satisfied: pygments<3.0.0,>=2.13.0 in c:\\users\\joash\\anaconda3\\lib\\site-packages (from rich->openmim<0.4.0,>=0.3.7->autogluon.multimodal==1.1.0->autogluon) (2.15.1)\n",
      "Requirement already satisfied: mpmath>=0.19 in c:\\users\\joash\\anaconda3\\lib\\site-packages (from sympy->optimum[onnxruntime]<1.19,>=1.17->autogluon.timeseries[all]==1.1.0->autogluon) (1.3.0)\n",
      "Requirement already satisfied: googleapis-common-protos<2.0.dev0,>=1.56.2 in c:\\users\\joash\\anaconda3\\lib\\site-packages (from google-api-core<3.0.0,>=1.0.0->opencensus->ray[default,tune]<2.11,>=2.10.0->autogluon.core[all]==1.1.0->autogluon) (1.63.0)\n",
      "Requirement already satisfied: proto-plus<2.0.0dev,>=1.22.3 in c:\\users\\joash\\anaconda3\\lib\\site-packages (from google-api-core<3.0.0,>=1.0.0->opencensus->ray[default,tune]<2.11,>=2.10.0->autogluon.core[all]==1.1.0->autogluon) (1.23.0)\n",
      "Requirement already satisfied: pyreadline3 in c:\\users\\joash\\anaconda3\\lib\\site-packages (from humanfriendly>=9.1->coloredlogs->optimum[onnxruntime]<1.19,>=1.17->autogluon.timeseries[all]==1.1.0->autogluon) (3.4.1)\n",
      "Requirement already satisfied: mdurl~=0.1 in c:\\users\\joash\\anaconda3\\lib\\site-packages (from markdown-it-py>=2.2.0->rich->openmim<0.4.0,>=0.3.7->autogluon.multimodal==1.1.0->autogluon) (0.1.0)\n",
      "Requirement already satisfied: pyasn1<0.5.0,>=0.4.6 in c:\\users\\joash\\anaconda3\\lib\\site-packages (from pyasn1-modules>=0.2.1->google-auth<3,>=1.6.3->tensorboard<3,>=2.9->autogluon.multimodal==1.1.0->autogluon) (0.4.8)\n",
      "Requirement already satisfied: oauthlib>=3.0.0 in c:\\users\\joash\\anaconda3\\lib\\site-packages (from requests-oauthlib>=0.7.0->google-auth-oauthlib<2,>=0.5->tensorboard<3,>=2.9->autogluon.multimodal==1.1.0->autogluon) (3.2.2)\n",
      "Requirement already satisfied: blis<0.8.0,>=0.7.8 in c:\\users\\joash\\anaconda3\\lib\\site-packages (from thinc<8.3.0,>=8.2.2->spacy<4->fastai<2.8,>=2.3.1->autogluon.tabular[all]==1.1.0->autogluon) (0.7.11)\n",
      "Requirement already satisfied: confection<1.0.0,>=0.0.1 in c:\\users\\joash\\anaconda3\\lib\\site-packages (from thinc<8.3.0,>=8.2.2->spacy<4->fastai<2.8,>=2.3.1->autogluon.tabular[all]==1.1.0->autogluon) (0.1.4)\n",
      "Requirement already satisfied: cloudpathlib<0.17.0,>=0.7.0 in c:\\users\\joash\\anaconda3\\lib\\site-packages (from weasel<0.4.0,>=0.1.0->spacy<4->fastai<2.8,>=2.3.1->autogluon.tabular[all]==1.1.0->autogluon) (0.16.0)\n",
      "Requirement already satisfied: soupsieve>1.2 in c:\\users\\joash\\anaconda3\\lib\\site-packages (from beautifulsoup4->gdown>=4.0.0->nlpaug<1.2.0,>=1.1.10->autogluon.multimodal==1.1.0->autogluon) (2.4)\n",
      "Requirement already satisfied: oss2~=2.17.0 in c:\\users\\joash\\anaconda3\\lib\\site-packages (from openxlab->opendatalab->openmim<0.4.0,>=0.3.7->autogluon.multimodal==1.1.0->autogluon) (2.17.0)\n",
      "Requirement already satisfied: PySocks!=1.5.7,>=1.5.6 in c:\\users\\joash\\anaconda3\\lib\\site-packages (from requests->autogluon.core[all]==1.1.0->autogluon) (1.7.1)\n",
      "Requirement already satisfied: crcmod>=1.7 in c:\\users\\joash\\anaconda3\\lib\\site-packages (from oss2~=2.17.0->openxlab->opendatalab->openmim<0.4.0,>=0.3.7->autogluon.multimodal==1.1.0->autogluon) (1.7)\n",
      "Requirement already satisfied: aliyun-python-sdk-kms>=2.4.1 in c:\\users\\joash\\anaconda3\\lib\\site-packages (from oss2~=2.17.0->openxlab->opendatalab->openmim<0.4.0,>=0.3.7->autogluon.multimodal==1.1.0->autogluon) (2.16.3)\n",
      "Requirement already satisfied: aliyun-python-sdk-core>=2.13.12 in c:\\users\\joash\\anaconda3\\lib\\site-packages (from oss2~=2.17.0->openxlab->opendatalab->openmim<0.4.0,>=0.3.7->autogluon.multimodal==1.1.0->autogluon) (2.15.1)\n",
      "Requirement already satisfied: cryptography>=2.6.0 in c:\\users\\joash\\anaconda3\\lib\\site-packages (from aliyun-python-sdk-core>=2.13.12->oss2~=2.17.0->openxlab->opendatalab->openmim<0.4.0,>=0.3.7->autogluon.multimodal==1.1.0->autogluon) (41.0.3)\n",
      "Requirement already satisfied: cffi>=1.12 in c:\\users\\joash\\anaconda3\\lib\\site-packages (from cryptography>=2.6.0->aliyun-python-sdk-core>=2.13.12->oss2~=2.17.0->openxlab->opendatalab->openmim<0.4.0,>=0.3.7->autogluon.multimodal==1.1.0->autogluon) (1.15.1)\n",
      "Requirement already satisfied: pycparser in c:\\users\\joash\\anaconda3\\lib\\site-packages (from cffi>=1.12->cryptography>=2.6.0->aliyun-python-sdk-core>=2.13.12->oss2~=2.17.0->openxlab->opendatalab->openmim<0.4.0,>=0.3.7->autogluon.multimodal==1.1.0->autogluon) (2.21)\n"
     ]
    }
   ],
   "source": [
    "\n",
    "!pip install autogluon "
   ]
  },
  {
   "cell_type": "code",
   "execution_count": 19,
   "id": "f4108639",
   "metadata": {},
   "outputs": [],
   "source": [
    "import os\n",
    "import pandas as pd\n",
    "\n",
    "def prepare_dataset(base_dir):\n",
    "    data = []\n",
    "    for label_dir in os.listdir(base_dir):\n",
    "        images = os.listdir(os.path.join(base_dir, label_dir))\n",
    "        for image in images:\n",
    "            data.append({\n",
    "                'image': os.path.join(base_dir, label_dir, image),\n",
    "                'label': label_dir\n",
    "            })\n",
    "    return pd.DataFrame(data)\n",
    "\n",
    "train_dir = \"C:\\\\Users\\\\joash\\\\Downloads\\\\archive - 2024-05-21T083145.355\\\\train\"\n",
    "test_dir = \"C:\\\\Users\\\\joash\\\\Downloads\\\\archive - 2024-05-21T083145.355\\\\test\"\n",
    "\n",
    "train_data = prepare_dataset(train_dir)\n",
    "test_data = prepare_dataset(test_dir)\n"
   ]
  },
  {
   "cell_type": "code",
   "execution_count": 20,
   "id": "f8259787",
   "metadata": {},
   "outputs": [
    {
     "name": "stderr",
     "output_type": "stream",
     "text": [
      "=================== System Info ===================\n",
      "AutoGluon Version:  1.1.0\n",
      "Python Version:     3.11.5\n",
      "Operating System:   Windows\n",
      "Platform Machine:   AMD64\n",
      "Platform Version:   10.0.22631\n",
      "CPU Count:          8\n",
      "Pytorch Version:    2.1.2+cpu\n",
      "CUDA Version:       CUDA is not available\n",
      "Memory Avail:       0.62 GB / 7.65 GB (8.1%)\n",
      "Disk Space Avail:   153.58 GB / 475.79 GB (32.3%)\n",
      "===================================================\n",
      "AutoGluon infers your prediction problem is: 'binary' (because only two unique label-values observed).\n",
      "\t2 unique label values:  ['apples', 'tomatoes']\n",
      "\tIf 'binary' is not the correct problem_type, please manually specify the problem_type parameter during predictor init (You may specify problem_type as one of: ['binary', 'multiclass', 'regression'])\n",
      "\n",
      "AutoMM starts to create your model. ✨✨✨\n",
      "\n",
      "To track the learning progress, you can open a terminal and launch Tensorboard:\n",
      "    ```shell\n",
      "    # Assume you have installed tensorboard\n",
      "    tensorboard --logdir C:\\Users\\joash\\tmp\\0606bba3134042008a24340902db519c-automm_fruit\n",
      "    ```\n",
      "\n",
      "Seed set to 0\n"
     ]
    },
    {
     "data": {
      "application/vnd.jupyter.widget-view+json": {
       "model_id": "b376fcf18ad54b6fbdbcbfbba8348f3c",
       "version_major": 2,
       "version_minor": 0
      },
      "text/plain": [
       "model.safetensors:   0%|          | 0.00/395M [00:00<?, ?B/s]"
      ]
     },
     "metadata": {},
     "output_type": "display_data"
    },
    {
     "name": "stderr",
     "output_type": "stream",
     "text": [
      "C:\\Users\\joash\\anaconda3\\Lib\\site-packages\\huggingface_hub\\file_download.py:157: UserWarning: `huggingface_hub` cache-system uses symlinks by default to efficiently store duplicated files but your machine does not support them in C:\\Users\\joash\\.cache\\huggingface\\hub\\models--timm--caformer_b36.sail_in22k_ft_in1k. Caching files will still work but in a degraded version that might require more space on your disk. This warning can be disabled by setting the `HF_HUB_DISABLE_SYMLINKS_WARNING` environment variable. For more details, see https://huggingface.co/docs/huggingface_hub/how-to-cache#limitations.\n",
      "To support symlinks on Windows, you either need to activate Developer Mode or to run Python as an administrator. In order to see activate developer mode, see this article: https://docs.microsoft.com/en-us/windows/apps/get-started/enable-your-device-for-development\n",
      "  warnings.warn(message)\n",
      "GPU Count: 0\n",
      "GPU Count to be Used: 0\n",
      "\n",
      "C:\\Users\\joash\\anaconda3\\Lib\\site-packages\\autogluon\\multimodal\\utils\\environment.py:131: UserWarning: Only CPU is detected in the instance. This may result in slow speed for MultiModalPredictor. Consider using an instance with GPU support.\n",
      "  warnings.warn(\n",
      "GPU available: False, used: False\n",
      "TPU available: False, using: 0 TPU cores\n",
      "IPU available: False, using: 0 IPUs\n",
      "HPU available: False, using: 0 HPUs\n",
      "\n",
      "  | Name              | Type                            | Params\n",
      "----------------------------------------------------------------------\n",
      "0 | model             | TimmAutoModelForImagePrediction | 95.7 M\n",
      "1 | validation_metric | BinaryAUROC                     | 0     \n",
      "2 | loss_func         | CrossEntropyLoss                | 0     \n",
      "----------------------------------------------------------------------\n",
      "95.7 M    Trainable params\n",
      "0         Non-trainable params\n",
      "95.7 M    Total params\n",
      "382.747   Total estimated model params size (MB)\n"
     ]
    },
    {
     "data": {
      "application/vnd.jupyter.widget-view+json": {
       "model_id": "",
       "version_major": 2,
       "version_minor": 0
      },
      "text/plain": [
       "Sanity Checking: |          | 0/? [00:00<?, ?it/s]"
      ]
     },
     "metadata": {},
     "output_type": "display_data"
    },
    {
     "data": {
      "application/vnd.jupyter.widget-view+json": {
       "model_id": "c47fbe1853bd4ee4a12b8d5c100a3d7c",
       "version_major": 2,
       "version_minor": 0
      },
      "text/plain": [
       "Training: |          | 0/? [00:00<?, ?it/s]"
      ]
     },
     "metadata": {},
     "output_type": "display_data"
    },
    {
     "name": "stderr",
     "output_type": "stream",
     "text": [
      "Time limit reached. Elapsed time is 0:10:15. Signaling Trainer to stop.\n"
     ]
    },
    {
     "data": {
      "application/vnd.jupyter.widget-view+json": {
       "model_id": "",
       "version_major": 2,
       "version_minor": 0
      },
      "text/plain": [
       "Validation: |          | 0/? [00:00<?, ?it/s]"
      ]
     },
     "metadata": {},
     "output_type": "display_data"
    },
    {
     "name": "stderr",
     "output_type": "stream",
     "text": [
      "AutoMM has created your model. 🎉🎉🎉\n",
      "\n",
      "To load the model, use the code below:\n",
      "    ```python\n",
      "    from autogluon.multimodal import MultiModalPredictor\n",
      "    predictor = MultiModalPredictor.load(\"C:\\Users\\joash\\tmp\\0606bba3134042008a24340902db519c-automm_fruit\")\n",
      "    ```\n",
      "\n",
      "If you are not satisfied with the model, try to increase the training time, \n",
      "adjust the hyperparameters (https://auto.gluon.ai/stable/tutorials/multimodal/advanced_topics/customization.html),\n",
      "or post issues on GitHub (https://github.com/autogluon/autogluon/issues).\n",
      "\n",
      "\n"
     ]
    },
    {
     "data": {
      "text/plain": [
       "<autogluon.multimodal.predictor.MultiModalPredictor at 0x23c8a0543d0>"
      ]
     },
     "execution_count": 20,
     "metadata": {},
     "output_type": "execute_result"
    }
   ],
   "source": [
    "from autogluon.multimodal import MultiModalPredictor\n",
    "import uuid\n",
    "\n",
    "model_path = f\"./tmp/{uuid.uuid4().hex}-automm_fruit\"\n",
    "predictor = MultiModalPredictor(label=\"label\", path=model_path)\n",
    "predictor.fit(train_data=train_data, time_limit=600)  # 600 seconds for training\n",
    "\n",
    "\n"
   ]
  },
  {
   "cell_type": "code",
   "execution_count": 22,
   "id": "0dde89b1",
   "metadata": {},
   "outputs": [
    {
     "name": "stdout",
     "output_type": "stream",
     "text": [
      "{'roc_auc': 0.619724375538329}\n"
     ]
    }
   ],
   "source": [
    "print(scores)\n"
   ]
  },
  {
   "cell_type": "code",
   "execution_count": 24,
   "id": "c34442d9",
   "metadata": {},
   "outputs": [
    {
     "name": "stdout",
     "output_type": "stream",
     "text": [
      "ROC AUC score: 0.620\n"
     ]
    }
   ],
   "source": [
    "print(f'ROC AUC score: {scores[\"roc_auc\"]:.3f}')\n",
    "\n"
   ]
  },
  {
   "cell_type": "code",
   "execution_count": 25,
   "id": "7e065167",
   "metadata": {},
   "outputs": [
    {
     "data": {
      "application/vnd.jupyter.widget-view+json": {
       "model_id": "7ac240902548402e8cede6007ae8d212",
       "version_major": 2,
       "version_minor": 0
      },
      "text/plain": [
       "Predicting: |          | 0/? [00:00<?, ?it/s]"
      ]
     },
     "metadata": {},
     "output_type": "display_data"
    },
    {
     "name": "stdout",
     "output_type": "stream",
     "text": [
      "Top-1 test accuracy: 0.433\n",
      "ROC AUC score: 0.620\n"
     ]
    }
   ],
   "source": [
    "scores = predictor.evaluate(test_data, metrics=['accuracy', 'roc_auc'])\n",
    "print(f'Top-1 test accuracy: {scores[\"accuracy\"]:.3f}')\n",
    "print(f'ROC AUC score: {scores[\"roc_auc\"]:.3f}')\n",
    "\n"
   ]
  }
 ],
 "metadata": {
  "kernelspec": {
   "display_name": "Python 3 (ipykernel)",
   "language": "python",
   "name": "python3"
  },
  "language_info": {
   "codemirror_mode": {
    "name": "ipython",
    "version": 3
   },
   "file_extension": ".py",
   "mimetype": "text/x-python",
   "name": "python",
   "nbconvert_exporter": "python",
   "pygments_lexer": "ipython3",
   "version": "3.11.5"
  }
 },
 "nbformat": 4,
 "nbformat_minor": 5
}
