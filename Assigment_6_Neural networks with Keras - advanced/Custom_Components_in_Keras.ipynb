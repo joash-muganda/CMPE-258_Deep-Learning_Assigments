{
  "nbformat": 4,
  "nbformat_minor": 0,
  "metadata": {
    "colab": {
      "provenance": []
    },
    "kernelspec": {
      "name": "python3",
      "display_name": "Python 3"
    },
    "language_info": {
      "name": "python"
    }
  },
  "cells": [
    {
      "cell_type": "markdown",
      "source": [
        "# **Custom Learning Rate Scheduler**"
      ],
      "metadata": {
        "id": "aJKzcZAvvmiF"
      }
    },
    {
      "cell_type": "code",
      "execution_count": null,
      "metadata": {
        "colab": {
          "base_uri": "https://localhost:8080/",
          "height": 1000
        },
        "id": "0LKS1HPWvijr",
        "outputId": "14235862-c5a2-4ad0-9898-76a02becfbe9"
      },
      "outputs": [
        {
          "output_type": "stream",
          "name": "stdout",
          "text": [
            "Epoch 1/50\n",
            "32/32 [==============================] - 2s 6ms/step - loss: 0.1017 - lr: 0.1000\n",
            "Epoch 2/50\n",
            "32/32 [==============================] - 0s 6ms/step - loss: 0.0832 - lr: 0.1000\n",
            "Epoch 3/50\n",
            "32/32 [==============================] - 0s 8ms/step - loss: 0.0820 - lr: 0.1000\n",
            "Epoch 4/50\n",
            "32/32 [==============================] - 0s 6ms/step - loss: 0.0823 - lr: 0.1000\n",
            "Epoch 5/50\n",
            "32/32 [==============================] - 0s 4ms/step - loss: 0.0827 - lr: 0.1000\n",
            "Epoch 6/50\n",
            "32/32 [==============================] - 0s 4ms/step - loss: 0.0833 - lr: 0.1000\n",
            "Epoch 7/50\n",
            "32/32 [==============================] - 0s 4ms/step - loss: 0.0827 - lr: 0.1000\n",
            "Epoch 8/50\n",
            "32/32 [==============================] - 0s 4ms/step - loss: 0.0825 - lr: 0.1000\n",
            "Epoch 9/50\n",
            "32/32 [==============================] - 0s 5ms/step - loss: 0.0833 - lr: 0.1000\n",
            "Epoch 10/50\n",
            "32/32 [==============================] - 0s 8ms/step - loss: 0.0838 - lr: 0.1000\n",
            "Epoch 11/50\n",
            "32/32 [==============================] - 0s 7ms/step - loss: 0.0827 - lr: 0.0500\n",
            "Epoch 12/50\n",
            "32/32 [==============================] - 0s 9ms/step - loss: 0.0821 - lr: 0.0500\n",
            "Epoch 13/50\n",
            "32/32 [==============================] - 0s 8ms/step - loss: 0.0819 - lr: 0.0500\n",
            "Epoch 14/50\n",
            "32/32 [==============================] - 0s 8ms/step - loss: 0.0813 - lr: 0.0500\n",
            "Epoch 15/50\n",
            "32/32 [==============================] - 0s 12ms/step - loss: 0.0813 - lr: 0.0500\n",
            "Epoch 16/50\n",
            "32/32 [==============================] - 0s 9ms/step - loss: 0.0830 - lr: 0.0500\n",
            "Epoch 17/50\n",
            "32/32 [==============================] - 0s 8ms/step - loss: 0.0815 - lr: 0.0500\n",
            "Epoch 18/50\n",
            "32/32 [==============================] - 0s 12ms/step - loss: 0.0819 - lr: 0.0500\n",
            "Epoch 19/50\n",
            "32/32 [==============================] - 0s 6ms/step - loss: 0.0829 - lr: 0.0500\n",
            "Epoch 20/50\n",
            "32/32 [==============================] - 0s 8ms/step - loss: 0.0821 - lr: 0.0500\n",
            "Epoch 21/50\n",
            "32/32 [==============================] - 0s 7ms/step - loss: 0.0818 - lr: 0.0250\n",
            "Epoch 22/50\n",
            "32/32 [==============================] - 0s 6ms/step - loss: 0.0824 - lr: 0.0250\n",
            "Epoch 23/50\n",
            "32/32 [==============================] - 0s 3ms/step - loss: 0.0817 - lr: 0.0250\n",
            "Epoch 24/50\n",
            "32/32 [==============================] - 0s 4ms/step - loss: 0.0820 - lr: 0.0250\n",
            "Epoch 25/50\n",
            "32/32 [==============================] - 0s 3ms/step - loss: 0.0822 - lr: 0.0250\n",
            "Epoch 26/50\n",
            "32/32 [==============================] - 0s 4ms/step - loss: 0.0816 - lr: 0.0250\n",
            "Epoch 27/50\n",
            "32/32 [==============================] - 0s 7ms/step - loss: 0.0821 - lr: 0.0250\n",
            "Epoch 28/50\n",
            "32/32 [==============================] - 0s 7ms/step - loss: 0.0820 - lr: 0.0250\n",
            "Epoch 29/50\n",
            "32/32 [==============================] - 0s 5ms/step - loss: 0.0822 - lr: 0.0250\n",
            "Epoch 30/50\n",
            "32/32 [==============================] - 0s 4ms/step - loss: 0.0818 - lr: 0.0250\n",
            "Epoch 31/50\n",
            "32/32 [==============================] - 0s 4ms/step - loss: 0.0820 - lr: 0.0125\n",
            "Epoch 32/50\n",
            "32/32 [==============================] - 0s 6ms/step - loss: 0.0816 - lr: 0.0125\n",
            "Epoch 33/50\n",
            "32/32 [==============================] - 0s 6ms/step - loss: 0.0817 - lr: 0.0125\n",
            "Epoch 34/50\n",
            "32/32 [==============================] - 0s 4ms/step - loss: 0.0818 - lr: 0.0125\n",
            "Epoch 35/50\n",
            "32/32 [==============================] - 0s 4ms/step - loss: 0.0816 - lr: 0.0125\n",
            "Epoch 36/50\n",
            "32/32 [==============================] - 0s 4ms/step - loss: 0.0818 - lr: 0.0125\n",
            "Epoch 37/50\n",
            "32/32 [==============================] - 0s 4ms/step - loss: 0.0816 - lr: 0.0125\n",
            "Epoch 38/50\n",
            "32/32 [==============================] - 0s 8ms/step - loss: 0.0815 - lr: 0.0125\n",
            "Epoch 39/50\n",
            "32/32 [==============================] - 0s 9ms/step - loss: 0.0822 - lr: 0.0125\n",
            "Epoch 40/50\n",
            "32/32 [==============================] - 0s 6ms/step - loss: 0.0820 - lr: 0.0125\n",
            "Epoch 41/50\n",
            "32/32 [==============================] - 0s 9ms/step - loss: 0.0817 - lr: 0.0063\n",
            "Epoch 42/50\n",
            "32/32 [==============================] - 0s 11ms/step - loss: 0.0818 - lr: 0.0063\n",
            "Epoch 43/50\n",
            "32/32 [==============================] - 0s 9ms/step - loss: 0.0818 - lr: 0.0063\n",
            "Epoch 44/50\n",
            "32/32 [==============================] - 0s 7ms/step - loss: 0.0816 - lr: 0.0063\n",
            "Epoch 45/50\n",
            "32/32 [==============================] - 0s 5ms/step - loss: 0.0816 - lr: 0.0063\n",
            "Epoch 46/50\n",
            "32/32 [==============================] - 0s 6ms/step - loss: 0.0816 - lr: 0.0063\n",
            "Epoch 47/50\n",
            "32/32 [==============================] - 0s 7ms/step - loss: 0.0817 - lr: 0.0063\n",
            "Epoch 48/50\n",
            "32/32 [==============================] - 0s 3ms/step - loss: 0.0817 - lr: 0.0063\n",
            "Epoch 49/50\n",
            "32/32 [==============================] - 0s 4ms/step - loss: 0.0815 - lr: 0.0063\n",
            "Epoch 50/50\n",
            "32/32 [==============================] - 0s 4ms/step - loss: 0.0817 - lr: 0.0063\n"
          ]
        },
        {
          "output_type": "display_data",
          "data": {
            "text/plain": [
              "<Figure size 640x480 with 1 Axes>"
            ],
            "image/png": "[encoded data removed]"
          },
          "metadata": {}
        }
      ],
      "source": [
        "import numpy as np\n",
        "import tensorflow as tf\n",
        "from tensorflow import keras\n",
        "\n",
        "# Generate synthetic data\n",
        "np.random.seed(0)\n",
        "x_train = np.random.random((1000, 10))\n",
        "y_train = np.random.random((1000, 1))\n",
        "\n",
        "def step_decay_schedule(initial_lr, decay_factor, step_size):\n",
        "    '''\n",
        "    Wrapper function to create a LearningRateScheduler with step decay schedule.\n",
        "    '''\n",
        "    def schedule(epoch):\n",
        "        new_lr = initial_lr * (decay_factor ** (epoch // step_size))\n",
        "        return new_lr\n",
        "\n",
        "    return keras.callbacks.LearningRateScheduler(schedule)\n",
        "\n",
        "# Model definition\n",
        "model = keras.Sequential([\n",
        "    keras.layers.Dense(10, activation='relu', input_shape=(10,)),\n",
        "    keras.layers.Dense(1)\n",
        "])\n",
        "\n",
        "# Compile model\n",
        "initial_learning_rate = 0.1\n",
        "model.compile(optimizer=keras.optimizers.Adam(learning_rate=initial_learning_rate),\n",
        "              loss='mse')\n",
        "\n",
        "# Training parameters\n",
        "epochs = 50\n",
        "decay_factor = 0.5\n",
        "step_size = 10\n",
        "\n",
        "# Include the learning rate scheduler callback\n",
        "lr_scheduler = step_decay_schedule(initial_lr=initial_learning_rate,\n",
        "                                   decay_factor=decay_factor, step_size=step_size)\n",
        "\n",
        "# Train model\n",
        "history = model.fit(x_train, y_train, epochs=epochs, callbacks=[lr_scheduler])\n",
        "\n",
        "# Optionally, plot the learning rate progress\n",
        "import matplotlib.pyplot as plt\n",
        "\n",
        "plt.plot(history.history['lr'])\n",
        "plt.title('Learning Rate Schedule')\n",
        "plt.ylabel('Learning Rate')\n",
        "plt.xlabel('Epoch')\n",
        "plt.show()\n"
      ]
    },
    {
      "cell_type": "markdown",
      "source": [
        "# **custom dropout layer**"
      ],
      "metadata": {
        "id": "YKdBhomNw2qU"
      }
    },
    {
      "cell_type": "code",
      "source": [
        "import tensorflow as tf\n",
        "from tensorflow import keras\n",
        "\n",
        "class VariableDropout(keras.layers.Layer):\n",
        "    def __init__(self, rate, **kwargs):\n",
        "        super(VariableDropout, self).__init__(**kwargs)\n",
        "        self.rate = rate\n",
        "\n",
        "    def call(self, inputs, training=None):\n",
        "        if 0. < self.rate < 1.:\n",
        "            if training:\n",
        "                return tf.nn.dropout(inputs, rate=self.rate)\n",
        "            return inputs\n",
        "        return inputs\n",
        "\n",
        "# Model definition using the custom dropout\n",
        "model = keras.Sequential([\n",
        "    keras.layers.Dense(64, activation='relu', input_shape=(10,)),\n",
        "    VariableDropout(rate=0.5),\n",
        "    keras.layers.Dense(1)\n",
        "])\n",
        "\n",
        "# Generate synthetic data\n",
        "import numpy as np\n",
        "np.random.seed(0)\n",
        "x_train = np.random.random((1000, 10))\n",
        "y_train = np.random.random((1000, 1))\n",
        "\n",
        "# Compile and train the model\n",
        "model.compile(optimizer='adam', loss='mse')\n",
        "history = model.fit(x_train, y_train, epochs=30)\n",
        "\n",
        "# Optionally, evaluate the model\n",
        "loss = model.evaluate(x_train, y_train)\n",
        "print(\"Loss:\", loss)\n"
      ],
      "metadata": {
        "colab": {
          "base_uri": "https://localhost:8080/"
        },
        "id": "8HqgBFuew3H6",
        "outputId": "511579dc-0fd2-4ee6-9260-28abe80d64e0"
      },
      "execution_count": null,
      "outputs": [
        {
          "output_type": "stream",
          "name": "stdout",
          "text": [
            "Epoch 1/30\n",
            "32/32 [==============================] - 2s 6ms/step - loss: 0.2412\n",
            "Epoch 2/30\n",
            "32/32 [==============================] - 0s 4ms/step - loss: 0.1759\n",
            "Epoch 3/30\n",
            "32/32 [==============================] - 0s 5ms/step - loss: 0.1423\n",
            "Epoch 4/30\n",
            "32/32 [==============================] - 0s 5ms/step - loss: 0.1237\n",
            "Epoch 5/30\n",
            "32/32 [==============================] - 0s 4ms/step - loss: 0.1123\n",
            "Epoch 6/30\n",
            "32/32 [==============================] - 0s 4ms/step - loss: 0.1068\n",
            "Epoch 7/30\n",
            "32/32 [==============================] - 0s 3ms/step - loss: 0.1060\n",
            "Epoch 8/30\n",
            "32/32 [==============================] - 0s 4ms/step - loss: 0.1052\n",
            "Epoch 9/30\n",
            "32/32 [==============================] - 0s 2ms/step - loss: 0.0954\n",
            "Epoch 10/30\n",
            "32/32 [==============================] - 0s 2ms/step - loss: 0.0963\n",
            "Epoch 11/30\n",
            "32/32 [==============================] - 0s 2ms/step - loss: 0.0931\n",
            "Epoch 12/30\n",
            "32/32 [==============================] - 0s 2ms/step - loss: 0.0980\n",
            "Epoch 13/30\n",
            "32/32 [==============================] - 0s 3ms/step - loss: 0.0933\n",
            "Epoch 14/30\n",
            "32/32 [==============================] - 0s 2ms/step - loss: 0.0907\n",
            "Epoch 15/30\n",
            "32/32 [==============================] - 0s 2ms/step - loss: 0.0941\n",
            "Epoch 16/30\n",
            "32/32 [==============================] - 0s 2ms/step - loss: 0.0888\n",
            "Epoch 17/30\n",
            "32/32 [==============================] - 0s 2ms/step - loss: 0.0916\n",
            "Epoch 18/30\n",
            "32/32 [==============================] - 0s 2ms/step - loss: 0.0913\n",
            "Epoch 19/30\n",
            "32/32 [==============================] - 0s 2ms/step - loss: 0.0883\n",
            "Epoch 20/30\n",
            "32/32 [==============================] - 0s 2ms/step - loss: 0.0884\n",
            "Epoch 21/30\n",
            "32/32 [==============================] - 0s 2ms/step - loss: 0.0876\n",
            "Epoch 22/30\n",
            "32/32 [==============================] - 0s 2ms/step - loss: 0.0879\n",
            "Epoch 23/30\n",
            "32/32 [==============================] - 0s 2ms/step - loss: 0.0870\n",
            "Epoch 24/30\n",
            "32/32 [==============================] - 0s 2ms/step - loss: 0.0864\n",
            "Epoch 25/30\n",
            "32/32 [==============================] - 0s 2ms/step - loss: 0.0856\n",
            "Epoch 26/30\n",
            "32/32 [==============================] - 0s 2ms/step - loss: 0.0872\n",
            "Epoch 27/30\n",
            "32/32 [==============================] - 0s 2ms/step - loss: 0.0853\n",
            "Epoch 28/30\n",
            "32/32 [==============================] - 0s 2ms/step - loss: 0.0862\n",
            "Epoch 29/30\n",
            "32/32 [==============================] - 0s 2ms/step - loss: 0.0836\n",
            "Epoch 30/30\n",
            "32/32 [==============================] - 0s 2ms/step - loss: 0.0836\n",
            "32/32 [==============================] - 0s 1ms/step - loss: 0.0791\n",
            "Loss: 0.07911263406276703\n"
          ]
        }
      ]
    },
    {
      "cell_type": "markdown",
      "source": [
        "# **Batch Normalization**"
      ],
      "metadata": {
        "id": "xgiJQRAXxgiQ"
      }
    },
    {
      "cell_type": "code",
      "source": [
        "import numpy as np\n",
        "import tensorflow as tf\n",
        "from tensorflow import keras\n",
        "\n",
        "class BatchRenormalization(keras.layers.Layer):\n",
        "    def __init__(self, momentum=0.99, epsilon=1e-3):\n",
        "        super(BatchRenormalization, self).__init__()\n",
        "        self.momentum = momentum\n",
        "        self.epsilon = epsilon\n",
        "\n",
        "    def build(self, input_shape):\n",
        "        self.gamma = self.add_weight(shape=(input_shape[-1],), initializer=\"ones\", trainable=True)\n",
        "        self.beta = self.add_weight(shape=(input_shape[-1],), initializer=\"zeros\", trainable=True)\n",
        "        self.running_mean = self.add_weight(shape=(input_shape[-1],), initializer=\"zeros\", trainable=False)\n",
        "        self.running_variance = self.add_weight(shape=(input_shape[-1],), initializer=\"ones\", trainable=False)\n",
        "\n",
        "    def call(self, inputs, training=None):\n",
        "        if training:\n",
        "            mean, variance = tf.nn.moments(inputs, axes=[0, 1, 2], keepdims=False)\n",
        "            self.running_mean.assign(self.momentum * self.running_mean + (1 - self.momentum) * mean)\n",
        "            self.running_variance.assign(self.momentum * self.running_variance + (1 - self.momentum) * variance)\n",
        "            normed = (inputs - mean) / tf.sqrt(variance + self.epsilon)\n",
        "        else:\n",
        "            normed = (inputs - self.running_mean) / tf.sqrt(self.running_variance + self.epsilon)\n",
        "        return self.gamma * normed + self.beta\n",
        "\n",
        "# Generate synthetic data\n",
        "x_train = np.random.rand(1000, 28, 28, 1).astype('float32')  # 1000 samples of 28x28 pixels, grayscale images\n",
        "y_train = np.random.randint(0, 10, size=(1000,)).astype('int32')  # 1000 labels for 10 classes\n",
        "\n",
        "# Example of using the Batch Renormalization layer in a model\n",
        "model = keras.Sequential([\n",
        "    keras.layers.Conv2D(32, 3, activation='relu', input_shape=(28, 28, 1)),\n",
        "    BatchRenormalization(),\n",
        "    keras.layers.MaxPooling2D(),\n",
        "    keras.layers.Flatten(),\n",
        "    keras.layers.Dense(10, activation='softmax')\n",
        "])\n",
        "\n",
        "# Compile and train the model\n",
        "model.compile(optimizer='adam', loss='sparse_categorical_crossentropy', metrics=['accuracy'])\n",
        "history = model.fit(x_train, y_train, epochs=10)\n",
        "\n",
        "# Optionally, evaluate the model\n",
        "metrics = model.evaluate(x_train, y_train)\n",
        "print(\"Metrics:\", metrics)\n"
      ],
      "metadata": {
        "colab": {
          "base_uri": "https://localhost:8080/"
        },
        "id": "84J6YwQZxkXs",
        "outputId": "eb671bf7-3128-471e-d1ac-e91a915683e3"
      },
      "execution_count": null,
      "outputs": [
        {
          "output_type": "stream",
          "name": "stdout",
          "text": [
            "Epoch 1/10\n",
            "32/32 [==============================] - 4s 47ms/step - loss: 3.1276 - accuracy: 0.1080\n",
            "Epoch 2/10\n",
            "32/32 [==============================] - 1s 40ms/step - loss: 2.0896 - accuracy: 0.2680\n",
            "Epoch 3/10\n",
            "32/32 [==============================] - 1s 30ms/step - loss: 1.2953 - accuracy: 0.5930\n",
            "Epoch 4/10\n",
            "32/32 [==============================] - 1s 29ms/step - loss: 0.6102 - accuracy: 0.8950\n",
            "Epoch 5/10\n",
            "32/32 [==============================] - 1s 27ms/step - loss: 0.2674 - accuracy: 0.9860\n",
            "Epoch 6/10\n",
            "32/32 [==============================] - 1s 28ms/step - loss: 0.1254 - accuracy: 1.0000\n",
            "Epoch 7/10\n",
            "32/32 [==============================] - 1s 28ms/step - loss: 0.0694 - accuracy: 1.0000\n",
            "Epoch 8/10\n",
            "32/32 [==============================] - 1s 29ms/step - loss: 0.0462 - accuracy: 1.0000\n",
            "Epoch 9/10\n",
            "32/32 [==============================] - 1s 40ms/step - loss: 0.0343 - accuracy: 1.0000\n",
            "Epoch 10/10\n",
            "32/32 [==============================] - 1s 44ms/step - loss: 0.0265 - accuracy: 1.0000\n",
            "32/32 [==============================] - 0s 7ms/step - loss: 1.1379 - accuracy: 1.0000\n",
            "Metrics: [1.137925386428833, 1.0]\n"
          ]
        }
      ]
    },
    {
      "cell_type": "markdown",
      "source": [
        "# **Custom dropout**"
      ],
      "metadata": {
        "id": "N097nBXSyq16"
      }
    },
    {
      "cell_type": "code",
      "source": [
        "import tensorflow as tf\n",
        "from tensorflow import keras\n",
        "\n",
        "class CustomDropout(keras.layers.Layer):\n",
        "    def __init__(self, rate, **kwargs):\n",
        "        super(CustomDropout, self).__init__(**kwargs)\n",
        "        self.rate = rate\n",
        "\n",
        "    def call(self, inputs, training=None):\n",
        "        if training:\n",
        "            noise_shape = (tf.shape(inputs)[0], 1, 1, tf.shape(inputs)[3])\n",
        "            return tf.nn.dropout(inputs, rate=self.rate, noise_shape=noise_shape)\n",
        "        return inputs\n",
        "\n",
        "# Example of using the Custom Dropout layer in a model\n",
        "model = keras.Sequential([\n",
        "    keras.layers.Conv2D(32, 3, activation='relu', input_shape=(28, 28, 1)),\n",
        "    CustomDropout(0.5),\n",
        "    keras.layers.MaxPooling2D(),\n",
        "    keras.layers.Flatten(),\n",
        "    keras.layers.Dense(10, activation='softmax')\n",
        "])\n",
        "\n",
        "# Generate synthetic data\n",
        "x_train = np.random.rand(1000, 28, 28, 1).astype('float32')  # 1000 samples of 28x28 pixels, grayscale images\n",
        "y_train = np.random.randint(0, 10, size=(1000,)).astype('int32')  # 1000 labels for 10 classes\n",
        "\n",
        "# Compile and train the model\n",
        "model.compile(optimizer='adam', loss='sparse_categorical_crossentropy', metrics=['accuracy'])\n",
        "history = model.fit(x_train, y_train, epochs=10)\n",
        "\n",
        "# Optionally, evaluate the model\n",
        "metrics = model.evaluate(x_train, y_train)\n",
        "print(\"Metrics:\", metrics)\n"
      ],
      "metadata": {
        "colab": {
          "base_uri": "https://localhost:8080/"
        },
        "id": "rbr6o8ObymZc",
        "outputId": "2e03ac43-ac08-492d-887f-c6b020b659f4"
      },
      "execution_count": null,
      "outputs": [
        {
          "output_type": "stream",
          "name": "stdout",
          "text": [
            "Epoch 1/10\n",
            "32/32 [==============================] - 1s 16ms/step - loss: 2.3701 - accuracy: 0.1130\n",
            "Epoch 2/10\n",
            "32/32 [==============================] - 1s 15ms/step - loss: 2.2933 - accuracy: 0.1140\n",
            "Epoch 3/10\n",
            "32/32 [==============================] - 0s 15ms/step - loss: 2.2597 - accuracy: 0.1690\n",
            "Epoch 4/10\n",
            "32/32 [==============================] - 1s 16ms/step - loss: 2.2130 - accuracy: 0.2470\n",
            "Epoch 5/10\n",
            "32/32 [==============================] - 0s 15ms/step - loss: 2.1647 - accuracy: 0.2400\n",
            "Epoch 6/10\n",
            "32/32 [==============================] - 1s 16ms/step - loss: 2.1081 - accuracy: 0.3410\n",
            "Epoch 7/10\n",
            "32/32 [==============================] - 0s 15ms/step - loss: 2.0296 - accuracy: 0.3820\n",
            "Epoch 8/10\n",
            "32/32 [==============================] - 1s 16ms/step - loss: 1.9753 - accuracy: 0.4060\n",
            "Epoch 9/10\n",
            "32/32 [==============================] - 0s 15ms/step - loss: 1.9148 - accuracy: 0.4450\n",
            "Epoch 10/10\n",
            "32/32 [==============================] - 1s 16ms/step - loss: 1.8049 - accuracy: 0.5240\n",
            "32/32 [==============================] - 0s 5ms/step - loss: 1.6950 - accuracy: 0.8070\n",
            "Metrics: [1.695030927658081, 0.8069999814033508]\n"
          ]
        }
      ]
    },
    {
      "cell_type": "markdown",
      "source": [
        "# **Custom Loss Function: Huber Loss**"
      ],
      "metadata": {
        "id": "Q7p5qXhBzXbW"
      }
    },
    {
      "cell_type": "code",
      "source": [
        "import tensorflow as tf\n",
        "from tensorflow import keras\n",
        "\n",
        "class HuberLoss(keras.losses.Loss):\n",
        "    def __init__(self, threshold=1.0):\n",
        "        super(HuberLoss, self).__init__()\n",
        "        self.threshold = threshold\n",
        "\n",
        "    def call(self, y_true, y_pred):\n",
        "        error = y_true - y_pred\n",
        "        is_small_error = tf.abs(error) <= self.threshold\n",
        "        squared_loss = tf.square(error) / 2\n",
        "        linear_loss = self.threshold * (tf.abs(error) - self.threshold / 2)\n",
        "        return tf.where(is_small_error, squared_loss, linear_loss)\n",
        "\n",
        "# Example of using the custom Huber loss in a model\n",
        "model = keras.Sequential([\n",
        "    keras.layers.Dense(64, activation='relu', input_shape=(10,)),\n",
        "    keras.layers.Dense(1)\n",
        "])\n",
        "\n",
        "model.compile(optimizer='adam', loss=HuberLoss(2.0))\n",
        "\n",
        "# Generate synthetic data\n",
        "x_train = tf.random.normal((100, 10))\n",
        "y_train = 2 * x_train[:, 0] + 3 * x_train[:, 1] + 1 + tf.random.normal((100,))\n",
        "\n",
        "# Train the model\n",
        "history = model.fit(x_train, y_train, epochs=10, verbose=1)\n",
        "\n",
        "# Optionally, evaluate the model\n",
        "metrics = model.evaluate(x_train, y_train)\n",
        "print(\"Metrics:\", metrics)\n"
      ],
      "metadata": {
        "colab": {
          "base_uri": "https://localhost:8080/"
        },
        "id": "vu_svsNyzcYQ",
        "outputId": "0c9f7fb5-7180-4725-8eae-1576df01c301"
      },
      "execution_count": null,
      "outputs": [
        {
          "output_type": "stream",
          "name": "stdout",
          "text": [
            "Epoch 1/10\n",
            "4/4 [==============================] - 1s 5ms/step - loss: 4.9081\n",
            "Epoch 2/10\n",
            "4/4 [==============================] - 0s 5ms/step - loss: 4.8121\n",
            "Epoch 3/10\n",
            "4/4 [==============================] - 0s 5ms/step - loss: 4.7286\n",
            "Epoch 4/10\n",
            "4/4 [==============================] - 0s 5ms/step - loss: 4.6462\n",
            "Epoch 5/10\n",
            "4/4 [==============================] - 0s 5ms/step - loss: 4.5709\n",
            "Epoch 6/10\n",
            "4/4 [==============================] - 0s 5ms/step - loss: 4.4952\n",
            "Epoch 7/10\n",
            "4/4 [==============================] - 0s 5ms/step - loss: 4.4131\n",
            "Epoch 8/10\n",
            "4/4 [==============================] - 0s 5ms/step - loss: 4.3379\n",
            "Epoch 9/10\n",
            "4/4 [==============================] - 0s 5ms/step - loss: 4.2588\n",
            "Epoch 10/10\n",
            "4/4 [==============================] - 0s 4ms/step - loss: 4.1780\n",
            "4/4 [==============================] - 0s 6ms/step - loss: 4.1169\n",
            "Metrics: 4.116886615753174\n"
          ]
        }
      ]
    },
    {
      "cell_type": "markdown",
      "source": [
        "# **Custom Activation Function: Parametric SoftPlus**"
      ],
      "metadata": {
        "id": "BLusD5NSzoxn"
      }
    },
    {
      "cell_type": "code",
      "source": [
        "import tensorflow as tf\n",
        "from tensorflow import keras\n",
        "\n",
        "class ParametricSoftPlus(keras.layers.Layer):\n",
        "    def __init__(self, beta=1.0):\n",
        "        super(ParametricSoftPlus, self).__init__()\n",
        "        self.beta = beta  # Parameter to control the steepness\n",
        "\n",
        "    def call(self, inputs):\n",
        "        return tf.math.log(1.0 + tf.math.exp(self.beta * inputs))\n",
        "\n",
        "# Example of using the custom Parametric SoftPlus activation in a model\n",
        "model = keras.Sequential([\n",
        "    keras.layers.Dense(64, input_shape=(10,)),\n",
        "    ParametricSoftPlus(beta=0.5),  # Using a custom activation function\n",
        "    keras.layers.Dense(1)\n",
        "])\n",
        "\n",
        "model.compile(optimizer='adam', loss='mean_squared_error')\n",
        "\n",
        "# Generate synthetic data\n",
        "x_train = tf.random.normal((100, 10))\n",
        "y_train = 2 * x_train[:, 0] + 3 * x_train[:, 1] + 1 + tf.random.normal((100,))\n",
        "\n",
        "# Train the model\n",
        "history = model.fit(x_train, y_train, epochs=10, verbose=1)\n",
        "\n",
        "# Optionally, evaluate the model\n",
        "metrics = model.evaluate(x_train, y_train)\n",
        "print(\"Metrics:\", metrics)\n"
      ],
      "metadata": {
        "colab": {
          "base_uri": "https://localhost:8080/"
        },
        "id": "BJrNRNt-zuFi",
        "outputId": "c1fc8670-dc04-4693-d0e1-1c489c812d9a"
      },
      "execution_count": null,
      "outputs": [
        {
          "output_type": "stream",
          "name": "stdout",
          "text": [
            "Epoch 1/10\n",
            "4/4 [==============================] - 1s 5ms/step - loss: 13.0747\n",
            "Epoch 2/10\n",
            "4/4 [==============================] - 0s 4ms/step - loss: 12.8824\n",
            "Epoch 3/10\n",
            "4/4 [==============================] - 0s 4ms/step - loss: 12.7200\n",
            "Epoch 4/10\n",
            "4/4 [==============================] - 0s 4ms/step - loss: 12.5411\n",
            "Epoch 5/10\n",
            "4/4 [==============================] - 0s 6ms/step - loss: 12.4179\n",
            "Epoch 6/10\n",
            "4/4 [==============================] - 0s 6ms/step - loss: 12.2730\n",
            "Epoch 7/10\n",
            "4/4 [==============================] - 0s 4ms/step - loss: 12.1469\n",
            "Epoch 8/10\n",
            "4/4 [==============================] - 0s 4ms/step - loss: 12.0085\n",
            "Epoch 9/10\n",
            "4/4 [==============================] - 0s 5ms/step - loss: 11.9244\n",
            "Epoch 10/10\n",
            "4/4 [==============================] - 0s 4ms/step - loss: 11.7805\n",
            "4/4 [==============================] - 0s 3ms/step - loss: 11.6863\n",
            "Metrics: 11.686280250549316\n"
          ]
        }
      ]
    },
    {
      "cell_type": "markdown",
      "source": [
        "# **Custom Initializer: Random Normal Multiplier**"
      ],
      "metadata": {
        "id": "x50xXZPSz_Kg"
      }
    },
    {
      "cell_type": "code",
      "source": [
        "class RandomNormalMultiplier(keras.initializers.Initializer):\n",
        "    def __init__(self, mean=0.0, stddev=0.05, multiplier=1.0):\n",
        "        self.mean = mean\n",
        "        self.stddev = stddev\n",
        "        self.multiplier = multiplier\n",
        "\n",
        "    def __call__(self, shape, dtype=None):\n",
        "        return tf.random.normal(shape, mean=self.mean, stddev=self.stddev, dtype=dtype) * self.multiplier\n",
        "\n",
        "    def get_config(self):\n",
        "        return {'mean': self.mean, 'stddev': self.stddev, 'multiplier': self.multiplier}\n"
      ],
      "metadata": {
        "id": "EE5Ckxkc0Dvj"
      },
      "execution_count": null,
      "outputs": []
    },
    {
      "cell_type": "markdown",
      "source": [
        "# **Custom Regularizer: L2 Regularization with Scaling**"
      ],
      "metadata": {
        "id": "je23D77L0M_g"
      }
    },
    {
      "cell_type": "code",
      "source": [
        "class L2RegularizerWithScale(keras.regularizers.Regularizer):\n",
        "    def __init__(self, scale=0.01):\n",
        "        self.scale = scale\n",
        "\n",
        "    def __call__(self, x):\n",
        "        return self.scale * tf.reduce_sum(tf.square(x))\n",
        "\n",
        "    def get_config(self):\n",
        "        return {'scale': self.scale}\n"
      ],
      "metadata": {
        "id": "X3KegTjD0PvU"
      },
      "execution_count": null,
      "outputs": []
    },
    {
      "cell_type": "markdown",
      "source": [
        "# **Using Custom Initializer and Regularizer in a Model**"
      ],
      "metadata": {
        "id": "vytFq_z30TQc"
      }
    },
    {
      "cell_type": "code",
      "source": [
        "model = keras.Sequential([\n",
        "    keras.layers.Dense(64, input_shape=(10,),\n",
        "                       kernel_initializer=RandomNormalMultiplier(multiplier=2.0),\n",
        "                       kernel_regularizer=L2RegularizerWithScale(scale=0.02)),\n",
        "    keras.layers.Activation('relu'),\n",
        "    keras.layers.Dense(1)\n",
        "])\n",
        "\n",
        "model.compile(optimizer='adam', loss='mean_squared_error')\n",
        "\n",
        "# Generate synthetic data\n",
        "x_train = tf.random.normal((100, 10))\n",
        "y_train = 2 * x_train[:, 0] + 3 * x_train[:, 1] + 1 + tf.random.normal((100,))\n",
        "\n",
        "# Train the model\n",
        "history = model.fit(x_train, y_train, epochs=10, verbose=1)\n",
        "\n",
        "# Optionally, evaluate the model\n",
        "metrics = model.evaluate(x_train, y_train)\n",
        "print(\"Metrics:\", metrics)\n"
      ],
      "metadata": {
        "colab": {
          "base_uri": "https://localhost:8080/"
        },
        "id": "ztTGm9eK0V8s",
        "outputId": "2a7fe634-9470-423f-b29a-bda94bedd3a3"
      },
      "execution_count": null,
      "outputs": [
        {
          "output_type": "stream",
          "name": "stdout",
          "text": [
            "Epoch 1/10\n",
            "4/4 [==============================] - 1s 5ms/step - loss: 14.4623\n",
            "Epoch 2/10\n",
            "4/4 [==============================] - 0s 4ms/step - loss: 14.0040\n",
            "Epoch 3/10\n",
            "4/4 [==============================] - 0s 4ms/step - loss: 13.6130\n",
            "Epoch 4/10\n",
            "4/4 [==============================] - 0s 4ms/step - loss: 13.2286\n",
            "Epoch 5/10\n",
            "4/4 [==============================] - 0s 4ms/step - loss: 12.8613\n",
            "Epoch 6/10\n",
            "4/4 [==============================] - 0s 4ms/step - loss: 12.4864\n",
            "Epoch 7/10\n",
            "4/4 [==============================] - 0s 4ms/step - loss: 12.1157\n",
            "Epoch 8/10\n",
            "4/4 [==============================] - 0s 5ms/step - loss: 11.7722\n",
            "Epoch 9/10\n",
            "4/4 [==============================] - 0s 4ms/step - loss: 11.4487\n",
            "Epoch 10/10\n",
            "4/4 [==============================] - 0s 3ms/step - loss: 11.1255\n",
            "4/4 [==============================] - 0s 4ms/step - loss: 10.8870\n",
            "Metrics: 10.887018203735352\n"
          ]
        }
      ]
    },
    {
      "cell_type": "markdown",
      "source": [
        "# **Custom Metric: Precision**"
      ],
      "metadata": {
        "id": "HJtHTT5i0qyc"
      }
    },
    {
      "cell_type": "code",
      "source": [
        "class Precision(keras.metrics.Metric):\n",
        "    def __init__(self, name='precision', **kwargs):\n",
        "        super(Precision, self).__init__(name=name, **kwargs)\n",
        "        self.true_positives = self.add_weight(name='tp', initializer='zeros')\n",
        "        self.predicted_positives = self.add_weight(name='pp', initializer='zeros')\n",
        "\n",
        "    def update_state(self, y_true, y_pred, sample_weight=None):\n",
        "        y_pred = tf.round(y_pred)\n",
        "        true_pos = tf.equal(y_true, 1) & tf.equal(y_pred, 1)\n",
        "        true_pos = tf.cast(true_pos, self.dtype)\n",
        "        pred_pos = tf.cast(tf.equal(y_pred, 1), self.dtype)\n",
        "\n",
        "        self.true_positives.assign_add(tf.reduce_sum(true_pos))\n",
        "        self.predicted_positives.assign_add(tf.reduce_sum(pred_pos))\n",
        "\n",
        "    def result(self):\n",
        "        precision = self.true_positives / (self.predicted_positives + tf.keras.backend.epsilon())\n",
        "        return precision\n",
        "\n",
        "    def reset_states(self):\n",
        "        self.true_positives.assign(0)\n",
        "        self.predicted_positives.assign(0)\n"
      ],
      "metadata": {
        "id": "WdD3mtx40u-z"
      },
      "execution_count": null,
      "outputs": []
    },
    {
      "cell_type": "markdown",
      "source": [
        "## **Using the Custom Metric in a Model**"
      ],
      "metadata": {
        "id": "r8XRL2K70ysR"
      }
    },
    {
      "cell_type": "code",
      "source": [
        "model = keras.Sequential([\n",
        "    keras.layers.Dense(10, activation='relu', input_shape=(10,)),\n",
        "    keras.layers.Dense(1, activation='sigmoid')\n",
        "])\n",
        "\n",
        "model.compile(optimizer='adam', loss='binary_crossentropy', metrics=[Precision()])\n",
        "\n",
        "# Generate synthetic binary classification data\n",
        "x_train = tf.random.normal((100, 10))\n",
        "y_train = tf.cast(tf.random.uniform((100,)) > 0.5, tf.float32)\n",
        "\n",
        "# Train the model\n",
        "history = model.fit(x_train, y_train, epochs=10, verbose=1)\n",
        "\n",
        "# Optionally, evaluate the model using custom precision metric\n",
        "metrics = model.evaluate(x_train, y_train)\n",
        "print(\"Metrics:\", metrics)\n"
      ],
      "metadata": {
        "colab": {
          "base_uri": "https://localhost:8080/"
        },
        "id": "qlW84-by00zb",
        "outputId": "5c1a9849-73dd-4cd6-a330-22baca298e22"
      },
      "execution_count": null,
      "outputs": [
        {
          "output_type": "stream",
          "name": "stdout",
          "text": [
            "Epoch 1/10\n",
            "4/4 [==============================] - 1s 7ms/step - loss: 0.7881 - precision: 0.4474\n",
            "Epoch 2/10\n",
            "4/4 [==============================] - 0s 4ms/step - loss: 0.7809 - precision: 0.4474\n",
            "Epoch 3/10\n",
            "4/4 [==============================] - 0s 4ms/step - loss: 0.7753 - precision: 0.4595\n",
            "Epoch 4/10\n",
            "4/4 [==============================] - 0s 5ms/step - loss: 0.7703 - precision: 0.4595\n",
            "Epoch 5/10\n",
            "4/4 [==============================] - 0s 5ms/step - loss: 0.7656 - precision: 0.4595\n",
            "Epoch 6/10\n",
            "4/4 [==============================] - 0s 5ms/step - loss: 0.7613 - precision: 0.4595\n",
            "Epoch 7/10\n",
            "4/4 [==============================] - 0s 5ms/step - loss: 0.7575 - precision: 0.4737\n",
            "Epoch 8/10\n",
            "4/4 [==============================] - 0s 4ms/step - loss: 0.7538 - precision: 0.4737\n",
            "Epoch 9/10\n",
            "4/4 [==============================] - 0s 4ms/step - loss: 0.7502 - precision: 0.4737\n",
            "Epoch 10/10\n"
          ]
        },
        {
          "output_type": "stream",
          "name": "stderr",
          "text": [
            "/usr/local/lib/python3.10/dist-packages/keras/src/engine/training.py:2723: UserWarning: Metric Precision implements a `reset_states()` method; rename it to `reset_state()` (without the final \"s\"). The name `reset_states()` has been deprecated to improve API consistency.\n",
            "  m.reset_state()\n"
          ]
        },
        {
          "output_type": "stream",
          "name": "stdout",
          "text": [
            "4/4 [==============================] - 0s 5ms/step - loss: 0.7467 - precision: 0.4737\n",
            "4/4 [==============================] - 0s 5ms/step - loss: 0.7439 - precision: 0.4737\n",
            "Metrics: [0.7439082860946655, 0.4736842215061188]\n"
          ]
        }
      ]
    }
  ]
}