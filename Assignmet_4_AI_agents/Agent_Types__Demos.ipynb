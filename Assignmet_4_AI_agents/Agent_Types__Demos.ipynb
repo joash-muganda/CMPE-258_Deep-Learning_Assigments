{
  "nbformat": 4,
  "nbformat_minor": 0,
  "metadata": {
    "colab": {
      "provenance": []
    },
    "kernelspec": {
      "name": "python3",
      "display_name": "Python 3"
    },
    "language_info": {
      "name": "python"
    }
  },
  "cells": [
    {
      "cell_type": "code",
      "execution_count": null,
      "metadata": {
        "id": "Sjw8pRhcFMru"
      },
      "outputs": [],
      "source": [
        "!pip install openai langchain requests\n"
      ]
    },
    {
      "cell_type": "code",
      "source": [
        "!pip install wikipedia"
      ],
      "metadata": {
        "id": "xXtQpBOKRke8"
      },
      "execution_count": null,
      "outputs": []
    },
    {
      "cell_type": "code",
      "source": [
        "import os\n",
        "\n",
        "\n",
        "\n"
      ],
      "metadata": {
        "id": "ip14jupmpofG"
      },
      "execution_count": 57,
      "outputs": []
    },
    {
      "cell_type": "markdown",
      "source": [
        "# **Zero-shot ReAct**"
      ],
      "metadata": {
        "id": "ROXcdEpOWCg-"
      }
    },
    {
      "cell_type": "markdown",
      "source": [
        "## **Language Transator**"
      ],
      "metadata": {
        "id": "gS3prXYnWIiD"
      }
    },
    {
      "cell_type": "code",
      "source": [],
      "metadata": {
        "id": "2pmMdRkiWCHX"
      },
      "execution_count": null,
      "outputs": []
    },
    {
      "cell_type": "code",
      "source": [
        "\n",
        "\n",
        "import os\n",
        "from langchain.agents import initialize_agent, load_tools, AgentType\n",
        "from langchain.llms import OpenAI\n",
        "\n",
        "# Access the OpenAI API key set as an environment variable\n",
        "openai_api_key = os.environ.get(\"OPENAI_API_KEY\")\n",
        "\n",
        "# Check if the API key is set\n",
        "if openai_api_key is None:\n",
        "    raise ValueError(\"OpenAI API key is not set. Please set the OPENAI_API_KEY environment variable.\")\n",
        "\n",
        "llm = OpenAI(openai_api_key=openai_api_key)\n",
        "tools = load_tools([\"wikipedia\"], llm=llm)\n",
        "agent = initialize_agent(tools, llm, agent=AgentType.ZERO_SHOT_REACT_DESCRIPTION, verbose=True)\n",
        "\n",
        "output_1 = agent.run(\"Translate friendship to Swahili\")\n",
        "output_2 = agent.run(\"Translate friendship to German\")\n",
        "\n",
        "print(output_1)\n",
        "print(output_2)\n",
        "\n"
      ],
      "metadata": {
        "colab": {
          "base_uri": "https://localhost:8080/"
        },
        "id": "LIAvaOoaFc0t",
        "outputId": "0eccdcae-670d-4d01-9550-d5a6478c349d"
      },
      "execution_count": 33,
      "outputs": [
        {
          "output_type": "stream",
          "name": "stdout",
          "text": [
            "\n",
            "\n",
            "\u001b[1m> Entering new AgentExecutor chain...\u001b[0m\n",
            "\u001b[32;1m\u001b[1;3m I should use the Google Translate API\n",
            "Action: Google Translate\n",
            "Action Input: friendship\u001b[0m\n",
            "Observation: Google Translate is not a valid tool, try one of [wikipedia].\n",
            "Thought:\u001b[32;1m\u001b[1;3m I should use the Wikipedia API to find the translation.\n",
            "Action: wikipedia\n",
            "Action Input: Swahili language\u001b[0m"
          ]
        },
        {
          "output_type": "stream",
          "name": "stderr",
          "text": [
            "/usr/local/lib/python3.10/dist-packages/wikipedia/wikipedia.py:389: GuessedAtParserWarning: No parser was explicitly specified, so I'm using the best available HTML parser for this system (\"lxml\"). This usually isn't a problem, but if you run this code on another system, or in a different virtual environment, it may use a different parser and behave differently.\n",
            "\n",
            "The code that caused this warning is on line 389 of the file /usr/local/lib/python3.10/dist-packages/wikipedia/wikipedia.py. To get rid of this warning, pass the additional argument 'features=\"lxml\"' to the BeautifulSoup constructor.\n",
            "\n",
            "  lis = BeautifulSoup(html).find_all('li')\n"
          ]
        },
        {
          "output_type": "stream",
          "name": "stdout",
          "text": [
            "\n",
            "Observation: \u001b[36;1m\u001b[1;3mPage: Swahili language\n",
            "Summary: Swahili, also known by its local name Kiswahili, is a Bantu language originally spoken by the Swahili people, who are found primarily in Tanzania, Kenya and Mozambique (along the East African coast and adjacent littoral islands). The number of current Swahili speakers, be they native or second-language speakers, is estimated to be over 200 million, with Tanzania known to have most of the native speakers.\n",
            "Swahili has a significant number of loanwords from other languages, mainly Arabic, as well as from Portuguese, English and German. Around fifteen percent of Swahili vocabulary consists of Arabic loanwords, including the name of the language (سَوَاحِلي sawāḥilī, a plural adjectival form of an Arabic word meaning 'of the coasts'). The loanwords date from the era of contact between Arab traders and the Bantu inhabitants of the east coast of Africa, which was also the time period when Swahili emerged as a lingua franca in the region.Due to concerted efforts by the government of Tanzania, Swahili is one of three official languages (the others being English and French) of the East African Community (EAC) countries, namely Burundi, Kenya, Rwanda, Tanzania, and Uganda. It is the lingua franca of other areas in the African Great Lakes region and East and Southern Africa, including some parts of the Democratic Republic of the Congo (DRC) and the southern tip of Somalia. Swahili is also one of the working languages of the African Union and of the Southern African Development Community. The East African Community created an institution called the East African Kiswahili Commission (EAKC) which began operations in 2015. The institution currently serves as the leading body for promoting the language in the East African region, as well as for coordinating its development and usage for regional integration and sustainable development. In recent years South Africa, Botswana, Namibia, Ethiopia, and South Sudan have begun offering Swahili as a subject in schools or have developed plans to do so.\n",
            "Shikomor (or Comorian), an official language in Comoros and also spoken in Mayotte (Shimaore), is closely related to Swahili and is sometimes considered a dialect of Swahili, although other authorities consider it a distinct language. In 2022, based on Swahili's growth as a prominent international language, the United Nations declared Swahili Language Day as 7 July to commemorate the date that Julius Nyerere adopted Swahili as a unifying language for African independence struggles.\n",
            "\n",
            "Page: Swahili people\n",
            "Summary: The Swahili people (Swahili: WaSwahili, وَسوَحِيلِ) comprise mainly Bantu, Afro-Arab and Comorian ethnic groups inhabiting the Swahili coast, an area encompassing the Zanzibar archipelago and mainland Tanzania's seaboard, littoral Kenya, northern Mozambique, the Comoros Islands and Northwest Madagascar. \n",
            "The original Swahili distinguished themselves from other Bantu peoples by self-identifying as Waungwana (the civilised ones). In certain regions (e.g. Lamu Island), this differentiation is even more stratified in terms of societal grouping and dialect, hinting to the historical processes by which the Swahili have coalesced over time. More recently, however, Swahili identity extends to any person of African descent who speaks Swahili as their first language, is Muslim and lives in a town on the main urban centres of most of modern-day Tanzania and coastal Kenya, northern Mozambique and the Comoros, through a process of swahilization.The name Swahili originated as an exonym for the language derived from Arabic: سواحل, romanized: Sawāhil, lit. 'coasts'. Swahili people speak the Swahili language. Swahili people's endonym for themselves is Waungwana, which means \"the civilized ones.\" Modern Standard Swahili is derived from the Kiunguja dialect of Zanzibar. Like many other world languages, Swahili has borrowed a large number of words from foreign languages, particularly administrative terms from Arabic, but also words fro\u001b[0m\n",
            "Thought:\u001b[32;1m\u001b[1;3m I now know the final answer\n",
            "Final Answer: The translation of friendship to Swahili is \"urafiki\".\u001b[0m\n",
            "\n",
            "\u001b[1m> Finished chain.\u001b[0m\n",
            "\n",
            "\n",
            "\u001b[1m> Entering new AgentExecutor chain...\u001b[0m\n",
            "\u001b[32;1m\u001b[1;3m I should use an online translator for this or look for a language learning website\n",
            "Action: translate\n",
            "Action Input: \"friendship\" to German\u001b[0m\n",
            "Observation: translate is not a valid tool, try one of [wikipedia].\n",
            "Thought:\u001b[32;1m\u001b[1;3m I should use the online translation tool on Wikipedia\n",
            "Action: wikipedia\n",
            "Action Input: friendship\u001b[0m\n",
            "Observation: \u001b[36;1m\u001b[1;3mPage: Friendship\n",
            "Summary: Friendship is a relationship of mutual affection between people. It is a stronger form of interpersonal bond than an \"acquaintance\" or an \"association\", such as a classmate, neighbor, coworker, or colleague.\n",
            "In some cultures, the concept of friendship is restricted to a small number of very deep relationships; in others, such as the U.S. and Canada, a person could have many friends, and perhaps a more intense relationship with one or two people, who may be called good friends or best friends. Other colloquial terms include besties or Best Friends Forever (BFFs). Although there are many forms of friendship, certain features are common to many such bonds, such as choosing to be with one another, enjoying time spent together, and being able to engage in a positive and supportive role to one another.Sometimes friends are distinguished from family, as in the saying \"friends and family\", and sometimes from lovers (e.g., \"lovers and friends\"), although the line is blurred with friends with benefits. Similarly, being in the friend zone describes someone who is restricted from rising from the status of friend to that of lover (see also unrequited love).\n",
            "Friendship has been studied in academic fields, such as communication, sociology, social psychology, anthropology, and philosophy. Various academic theories of friendship have been proposed, including social exchange theory, equity theory, relational dialectics, and attachment styles.\n",
            "\n",
            "Page: Friendship!\n",
            "Summary: Friendship! is a 2010 German film directed by Markus Goller.\n",
            "\n",
            "Page: Friendship Day\n",
            "Summary: Friendship Day (also known as the International Friendship Day or Friend's Day) is a day in several countries for celebrating friendship. It was initially promoted by the greeting card industry; evidence from social networking sites shows a revival of interest in Friendship Day that may have grown with the spread of the internet, particularly in India, Bangladesh, and Malaysia. Mobile phones, digital communication, and social media have contributed to popularize the custom. Those who promote the day in South Asia attribute the tradition of dedicating a day in honour of friends to have originated in the United States in 1935.\u001b[0m\n",
            "Thought:\u001b[32;1m\u001b[1;3m Friendship has a lot of cultural and historical significance\n",
            "Final Answer: Friendship has a lot of cultural and historical significance, and it is celebrated in different ways around the world, including through a designated day for honoring friendships.\u001b[0m\n",
            "\n",
            "\u001b[1m> Finished chain.\u001b[0m\n",
            "The translation of friendship to Swahili is \"urafiki\".\n",
            "Friendship has a lot of cultural and historical significance, and it is celebrated in different ways around the world, including through a designated day for honoring friendships.\n"
          ]
        }
      ]
    },
    {
      "cell_type": "markdown",
      "source": [
        "# **Conversational ReAct**"
      ],
      "metadata": {
        "id": "gZFA3zEEisVF"
      }
    },
    {
      "cell_type": "markdown",
      "source": [
        "## ***Asking about weather***"
      ],
      "metadata": {
        "id": "SFBdgyOOsSDK"
      }
    },
    {
      "cell_type": "code",
      "source": [],
      "metadata": {
        "id": "-smp4B2Kir2G"
      },
      "execution_count": null,
      "outputs": []
    },
    {
      "cell_type": "code",
      "source": [
        "\n",
        "import os\n",
        "from langchain.agents import initialize_agent, load_tools\n",
        "from langchain.llms import OpenAI\n",
        "from langchain.memory import ConversationBufferMemory\n",
        "\n",
        "# Access the OpenAI API key set as an environment variable\n",
        "openai_api_key = os.environ.get(\"OPENAI_API_KEY\")\n",
        "\n",
        "# Check if the API key is set\n",
        "if openai_api_key is None:\n",
        "    raise ValueError(\"OpenAI API key is not set. Please set the OPENAI_API_KEY environment variable.\")\n",
        "\n",
        "llm = OpenAI(openai_api_key=openai_api_key)\n",
        "tools = load_tools([], llm=llm)  # No need to specify tools\n",
        "memory = ConversationBufferMemory(memory_key=\"chat_history\")\n",
        "\n",
        "conversational_agent = initialize_agent(\n",
        "    agent=\"conversational-react-description\",\n",
        "    tools=tools,\n",
        "    llm=llm,\n",
        "    verbose=True,\n",
        "    max_iterations=3,\n",
        "    memory=memory\n",
        ")\n",
        "\n",
        "output_1 = conversational_agent.run(\"What's the weather like in New York today?\")\n",
        "output_2 = conversational_agent.run(\"Could you tell me the forecast for London tomorrow?\")\n",
        "\n",
        "print(output_1)\n",
        "print(output_2)\n"
      ],
      "metadata": {
        "colab": {
          "base_uri": "https://localhost:8080/"
        },
        "id": "EfSvZrcTiN6Q",
        "outputId": "21485fd2-d03d-4d86-db9b-e018ed815b13"
      },
      "execution_count": 25,
      "outputs": [
        {
          "output_type": "stream",
          "name": "stdout",
          "text": [
            "\n",
            "\n",
            "\u001b[1m> Entering new AgentExecutor chain...\u001b[0m\n",
            "\u001b[32;1m\u001b[1;3mAI: According to the latest weather forecast, it is currently cloudy with a chance of rain in New York. The temperature is expected to reach a high of 73 degrees Fahrenheit and a low of 61 degrees Fahrenheit. You may want to bring an umbrella just in case.\u001b[0m\n",
            "\n",
            "\u001b[1m> Finished chain.\u001b[0m\n",
            "\n",
            "\n",
            "\u001b[1m> Entering new AgentExecutor chain...\u001b[0m\n",
            "\u001b[32;1m\u001b[1;3mThought: Do I need to use a tool? Yes\n",
            "Action: Get weather forecast\n",
            "Action Input: London, tomorrow\u001b[0m\n",
            "Observation: Get weather forecast is not a valid tool, try one of [].\n",
            "Thought:\u001b[32;1m\u001b[1;3m Do I need to use a tool? Yes\n",
            "Action: Get weather forecast\n",
            "Action Input: London, tomorrow\u001b[0m\n",
            "Observation: Get weather forecast is not a valid tool, try one of [].\n",
            "Thought:\u001b[32;1m\u001b[1;3m Do I need to use a tool? Yes\n",
            "Action: Get weather forecast\n",
            "Action Input: London, tomorrow\u001b[0m\n",
            "Observation: Get weather forecast is not a valid tool, try one of [].\n",
            "Thought:\u001b[32;1m\u001b[1;3m\u001b[0m\n",
            "\n",
            "\u001b[1m> Finished chain.\u001b[0m\n",
            "According to the latest weather forecast, it is currently cloudy with a chance of rain in New York. The temperature is expected to reach a high of 73 degrees Fahrenheit and a low of 61 degrees Fahrenheit. You may want to bring an umbrella just in case.\n",
            "Agent stopped due to iteration limit or time limit.\n"
          ]
        }
      ]
    },
    {
      "cell_type": "markdown",
      "source": [
        "# **ReAct Docstore**"
      ],
      "metadata": {
        "id": "_7J6uaSOsLxU"
      }
    },
    {
      "cell_type": "code",
      "source": [
        "import os\n",
        "from langchain.agents import initialize_agent, Tool\n",
        "from langchain.llms import OpenAI\n",
        "from langchain import Wikipedia\n",
        "from langchain.agents.react.base import DocstoreExplorer\n",
        "\n",
        "# Retrieve the OpenAI API key from the environment variable\n",
        "openai_api_key = os.environ.get(\"OPENAI_API_KEY\")\n",
        "\n",
        "# Initialize the OpenAI language model\n",
        "llm = OpenAI(openai_api_key=openai_api_key)\n",
        "\n",
        "# Initialize the document store explorer with Wikipedia as the data source\n",
        "docstore = DocstoreExplorer(Wikipedia())\n",
        "\n",
        "# Define the Search tool for searching documents\n",
        "search_tool = Tool(name=\"Search\", func=docstore.search, description=\"Useful for searching documents.\")\n",
        "\n",
        "# Define the Lookup tool for term lookups within documents\n",
        "lookup_tool = Tool(name=\"Lookup\", func=docstore.lookup, description=\"Useful for looking up terms within documents.\")\n",
        "\n",
        "# Initialize the agent with the tools and OpenAI language model\n",
        "react_agent = initialize_agent([search_tool, lookup_tool], llm, agent=\"react-docstore\")\n",
        "\n",
        "# Perform a search and lookup within the documents\n",
        "output_1 = react_agent.run(\"What are the benefits of solar energy?\")\n",
        "output_2 = react_agent.run(\"What is the concept of globalization?\")\n",
        "\n",
        "print(output_1)\n",
        "print(output_2)\n"
      ],
      "metadata": {
        "colab": {
          "base_uri": "https://localhost:8080/"
        },
        "id": "BsW0i8o_uOGZ",
        "outputId": "f69e86bb-251e-4c97-f502-095acf173982"
      },
      "execution_count": 35,
      "outputs": [
        {
          "output_type": "stream",
          "name": "stdout",
          "text": [
            "renewable energy source, increased energy security, enhanced sustainability, reduced pollution, lower costs of mitigating global warming\n",
            "The process of interaction and integration among people, companies, and governments worldwide, primarily involving economic aspects such as trade, investment, and technology, as well as the exchange of ideas, beliefs, and culture. Its origins can be traced back to the 18th and 19th centuries but became more prominent in the late 20th century. It has been affected by advancements in transportation and communication technology. Globalization is often divided into economic, cultural, and political aspects.\n"
          ]
        }
      ]
    },
    {
      "cell_type": "code",
      "source": [
        "!pip install langchain_community\n"
      ],
      "metadata": {
        "id": "W2jlaApaSISg"
      },
      "execution_count": null,
      "outputs": []
    },
    {
      "cell_type": "code",
      "source": [
        "from langchain.agents import initialize_agent, Tool\n",
        "from langchain.llms import OpenAI\n",
        "import os\n",
        "\n",
        "# Get the OpenAI API key from environment variable\n",
        "openai_api_key = os.getenv(\"OPENAI_API_KEY\")\n",
        "\n",
        "# Initialize OpenAI with your API key\n",
        "llm = OpenAI(openai_api_key=openai_api_key)\n",
        "\n",
        "# Define the tool for searching using OpenAI\n",
        "def openai_search(query):\n",
        "    # Placeholder function for searching using OpenAI\n",
        "    response = f\"Placeholder response for query: {query}\"\n",
        "    return response\n",
        "\n",
        "# Define the tool using the OpenAI search function\n",
        "tools = [\n",
        "    Tool(\n",
        "        name=\"Intermediate Answer\",\n",
        "        func=openai_search,\n",
        "        description='OpenAI search'\n",
        "    )\n",
        "]\n",
        "\n",
        "# Initialize the agent with the defined tools and LLMS\n",
        "agent = initialize_agent(\n",
        "    tools=tools,\n",
        "    llm=llm,\n",
        "    agent=\"self-ask-with-search\",\n",
        "    verbose=True,\n",
        ")\n",
        "\n",
        "# Run the agent with a specific query\n",
        "print(agent.run(\"what is the capital of Japan?\"))\n"
      ],
      "metadata": {
        "id": "hsTjhC255Ork"
      },
      "execution_count": null,
      "outputs": []
    }
  ]
}