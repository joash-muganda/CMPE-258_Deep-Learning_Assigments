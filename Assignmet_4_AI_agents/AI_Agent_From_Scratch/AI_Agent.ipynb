{
  "nbformat": 4,
  "nbformat_minor": 0,
  "metadata": {
    "colab": {
      "provenance": []
    },
    "kernelspec": {
      "name": "python3",
      "display_name": "Python 3"
    },
    "language_info": {
      "name": "python"
    }
  },
  "cells": [
    {
      "cell_type": "code",
      "execution_count": 1,
      "metadata": {
        "colab": {
          "base_uri": "https://localhost:8080/"
        },
        "id": "2tkGMLFZflEX",
        "outputId": "1382ab51-3843-40fb-a217-a629273f897f"
      },
      "outputs": [
        {
          "output_type": "execute_result",
          "data": {
            "text/plain": [
              "('sunny', ['Visit a park', 'Go hiking', 'Beach day'])"
            ]
          },
          "metadata": {},
          "execution_count": 1
        }
      ],
      "source": [
        "import random\n",
        "\n",
        "# Simulated weather data\n",
        "weather_conditions = ['sunny', 'rainy', 'cloudy', 'snowy', 'windy']\n",
        "activities = {\n",
        "    'sunny': ['Visit a park', 'Go hiking', 'Beach day'],\n",
        "    'rainy': ['Visit a museum', 'Watch a movie at home', 'Read a book'],\n",
        "    'cloudy': ['Go for a walk', 'Photography day', 'Visit a local cafe'],\n",
        "    'snowy': ['Go skiing', 'Build a snowman', 'Stay in and bake cookies'],\n",
        "    'windy': ['Fly a kite', 'Sailing', 'Wind surfing']\n",
        "}\n",
        "\n",
        "def simulate_weather_forecast(location):\n",
        "    \"\"\"Simulate getting a weather forecast for a given location.\"\"\"\n",
        "\n",
        "    weather = random.choice(weather_conditions)\n",
        "    return weather\n",
        "\n",
        "def recommend_activities(weather):\n",
        "    \"\"\"Recommend activities based on the current weather.\"\"\"\n",
        "\n",
        "    if weather in activities:\n",
        "        return activities[weather]\n",
        "    else:\n",
        "        return ['No recommendations available for this weather.']\n",
        "\n",
        "# Example usage\n",
        "location = \"New York\"  # Example location\n",
        "current_weather = simulate_weather_forecast(location)\n",
        "recommended_activities = recommend_activities(current_weather)\n",
        "\n",
        "(current_weather, recommended_activities)\n"
      ]
    },
    {
      "cell_type": "code",
      "source": [
        "def simulate_user_input():\n",
        "    \"\"\"Simulate user input for location and activity preferences.\"\"\"\n",
        "    # In a real application, these would be gathered through a UI\n",
        "    user_location = \"San Francisco\"\n",
        "    user_preferences = {\n",
        "        \"outdoor_activities\": True,\n",
        "        \"cultural_activities\": True,\n",
        "        \"active_activities\": False\n",
        "    }\n",
        "    return user_location, user_preferences\n",
        "\n",
        "def enhanced_recommend_activities(weather, user_preferences):\n",
        "    \"\"\"Recommend activities based on weather and user preferences.\"\"\"\n",
        "    # Filter activities based on user preferences\n",
        "    filtered_activities = []\n",
        "    for activity in activities[weather]:\n",
        "        if user_preferences[\"outdoor_activities\"] and \"Visit\" in activity or \"Go\" in activity:\n",
        "            filtered_activities.append(activity)\n",
        "        elif user_preferences[\"cultural_activities\"] and \"Visit\" in activity:\n",
        "            filtered_activities.append(activity)\n",
        "        elif user_preferences[\"active_activities\"] and (\"hiking\" in activity or \"skiing\" in activity):\n",
        "            filtered_activities.append(activity)\n",
        "    return filtered_activities if filtered_activities else [\"Enjoy a relaxing day at home.\"]\n",
        "\n",
        "# Simulate fetching user input\n",
        "location, user_prefs = simulate_user_input()\n",
        "\n",
        "# Get weather forecast and recommend activities based on user preferences\n",
        "current_weather = simulate_weather_forecast(location)\n",
        "recommended_activities_based_on_prefs = enhanced_recommend_activities(current_weather, user_prefs)\n",
        "\n",
        "(location, current_weather, recommended_activities_based_on_prefs)\n"
      ],
      "metadata": {
        "colab": {
          "base_uri": "https://localhost:8080/"
        },
        "id": "lvR9whwKf6oy",
        "outputId": "7d4156a7-45ec-41e3-bebc-5981a9bbdfc9"
      },
      "execution_count": 2,
      "outputs": [
        {
          "output_type": "execute_result",
          "data": {
            "text/plain": [
              "('San Francisco', 'rainy', ['Visit a museum'])"
            ]
          },
          "metadata": {},
          "execution_count": 2
        }
      ]
    }
  ]
}