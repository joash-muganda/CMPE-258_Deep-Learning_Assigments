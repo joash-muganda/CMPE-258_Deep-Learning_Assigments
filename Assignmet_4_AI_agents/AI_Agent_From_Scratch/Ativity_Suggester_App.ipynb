{
  "nbformat": 4,
  "nbformat_minor": 0,
  "metadata": {
    "colab": {
      "provenance": []
    },
    "kernelspec": {
      "name": "python3",
      "display_name": "Python 3"
    },
    "language_info": {
      "name": "python"
    }
  },
  "cells": [
    {
      "cell_type": "markdown",
      "source": [
        "# ***Suggest activity based on MOOD and WEATHER***"
      ],
      "metadata": {
        "id": "MTm1zLLOsUdm"
      }
    },
    {
      "cell_type": "code",
      "execution_count": 6,
      "metadata": {
        "colab": {
          "base_uri": "https://localhost:8080/"
        },
        "id": "1-ZX1o-1i453",
        "outputId": "c4031648-3237-42c0-af4a-8afd45d13e77"
      },
      "outputs": [
        {
          "output_type": "stream",
          "name": "stdout",
          "text": [
            "Requirement already satisfied: textblob in /usr/local/lib/python3.10/dist-packages (0.17.1)\n",
            "Requirement already satisfied: requests in /usr/local/lib/python3.10/dist-packages (2.31.0)\n",
            "Requirement already satisfied: nltk>=3.1 in /usr/local/lib/python3.10/dist-packages (from textblob) (3.8.1)\n",
            "Requirement already satisfied: charset-normalizer<4,>=2 in /usr/local/lib/python3.10/dist-packages (from requests) (3.3.2)\n",
            "Requirement already satisfied: idna<4,>=2.5 in /usr/local/lib/python3.10/dist-packages (from requests) (3.6)\n",
            "Requirement already satisfied: urllib3<3,>=1.21.1 in /usr/local/lib/python3.10/dist-packages (from requests) (2.0.7)\n",
            "Requirement already satisfied: certifi>=2017.4.17 in /usr/local/lib/python3.10/dist-packages (from requests) (2024.2.2)\n",
            "Requirement already satisfied: click in /usr/local/lib/python3.10/dist-packages (from nltk>=3.1->textblob) (8.1.7)\n",
            "Requirement already satisfied: joblib in /usr/local/lib/python3.10/dist-packages (from nltk>=3.1->textblob) (1.3.2)\n",
            "Requirement already satisfied: regex>=2021.8.3 in /usr/local/lib/python3.10/dist-packages (from nltk>=3.1->textblob) (2023.12.25)\n",
            "Requirement already satisfied: tqdm in /usr/local/lib/python3.10/dist-packages (from nltk>=3.1->textblob) (4.66.2)\n"
          ]
        }
      ],
      "source": [
        "!pip install textblob requests\n"
      ]
    },
    {
      "cell_type": "code",
      "source": [
        "from textblob import TextBlob\n",
        "import requests\n",
        "import random\n",
        "\n",
        "def get_user_input(prompt, valid_responses=None):\n",
        "    response = input(prompt).lower()\n",
        "    if valid_responses:\n",
        "        while response not in valid_responses:\n",
        "            response = input(prompt).lower()\n",
        "    return response\n",
        "\n",
        "def get_weather(api_key, city):\n",
        "    url = f\"http://api.openweathermap.org/data/2.5/weather?q={city}&appid={api_key}&units=metric\"\n",
        "    try:\n",
        "        response = requests.get(url).json()\n",
        "        if 'weather' in response and len(response['weather']) > 0:\n",
        "            return response['weather'][0]['main']\n",
        "        else:\n",
        "            print(\"Weather data not found in the response.\")\n",
        "            return None\n",
        "    except Exception as e:\n",
        "        print(f\"Couldn't fetch weather data: {e}\")\n",
        "        return None\n",
        "\n",
        "\n",
        "\n",
        "\n",
        "\n",
        "def suggest_activities(mood, weather=None):\n",
        "    activities = {\n",
        "        'positive': ['Go for a run', 'Practice yoga', 'Work on your hobby project'],\n",
        "        'neutral': ['Read a book', 'Meditate for 10 minutes', 'Try cooking a new recipe'],\n",
        "        'negative': ['Write in your journal', 'Listen to your favorite music', 'Watch a comforting movie'],\n",
        "        'rain': ['Do indoor yoga', 'Have a movie marathon', 'Start a new book']\n",
        "    }\n",
        "\n",
        "    if weather == 'Rain':\n",
        "        return random.choice(activities['rain'])\n",
        "    else:\n",
        "        mood_key = 'positive' if mood > 0 else 'neutral' if mood == 0 else 'negative'\n",
        "        return random.choice(activities[mood_key])\n",
        "\n",
        "\n",
        "\n",
        "# Main execution\n",
        "mood = get_mood()\n",
        "outdoor_preference = get_user_input(\"Are you open to outdoor activities today? (yes/no): \", valid_responses=['yes', 'no'])\n",
        "\n",
        "if outdoor_preference == 'yes':\n",
        "    city = input(\"Please enter your city for weather-based suggestions: \")\n",
        "    # Assuming you have an API key for OpenWeatherMap\n",
        "    api_key = \"cba59efe5371a4eec0f1f9087ca82234\"\n",
        "    weather = get_weather(api_key, city)\n",
        "    activity_suggestion = suggest_activities(mood, weather)\n",
        "    print(f\"Based on how you're feeling, the current weather ({weather}), and your preference for outdoor activities, you might enjoy this activity: {activity_suggestion}\")\n",
        "else:\n",
        "    activity_suggestion = suggest_activities(mood)\n",
        "    print(f\"Based on how you're feeling and your preference for indoor activities, you might enjoy this activity: {activity_suggestion}\")\n",
        "\n"
      ],
      "metadata": {
        "colab": {
          "base_uri": "https://localhost:8080/"
        },
        "id": "SGxLfdEWjPWT",
        "outputId": "af2de433-3a6a-425d-a93c-ba6a48abe2c1"
      },
      "execution_count": 17,
      "outputs": [
        {
          "output_type": "stream",
          "name": "stdout",
          "text": [
            "How are you feeling today? Awsome\n",
            "Are you open to outdoor activities today? (yes/no): yes\n",
            "Please enter your city for weather-based suggestions: Santa Clara\n",
            "Based on how you're feeling, the current weather (Clear), and your preference for outdoor activities, you might enjoy this activity: Meditate for 10 minutes\n"
          ]
        }
      ]
    }
  ]
}