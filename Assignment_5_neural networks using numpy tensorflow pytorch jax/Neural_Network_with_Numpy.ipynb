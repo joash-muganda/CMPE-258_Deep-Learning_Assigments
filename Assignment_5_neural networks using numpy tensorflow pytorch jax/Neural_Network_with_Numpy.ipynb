{
  "nbformat": 4,
  "nbformat_minor": 0,
  "metadata": {
    "colab": {
      "provenance": []
    },
    "kernelspec": {
      "name": "python3",
      "display_name": "Python 3"
    },
    "language_info": {
      "name": "python"
    }
  },
  "cells": [
    {
      "cell_type": "code",
      "source": [
        "import numpy as np"
      ],
      "metadata": {
        "id": "shOZPC-a1xds"
      },
      "execution_count": null,
      "outputs": []
    },
    {
      "cell_type": "code",
      "execution_count": null,
      "metadata": {
        "id": "5witSTa_x67T"
      },
      "outputs": [],
      "source": [
        "class NeuralNetwork:\n",
        "    def __init__(self, input_size, hidden_size1, hidden_size2, output_size):\n",
        "        np.random.seed(0)\n",
        "        self.weights1 = np.random.randn(input_size, hidden_size1) * 0.1\n",
        "        self.bias1 = np.zeros((1, hidden_size1))\n",
        "\n",
        "        self.weights2 = np.random.randn(hidden_size1, hidden_size2) * 0.1\n",
        "        self.bias2 = np.zeros((1, hidden_size2))\n",
        "\n",
        "        self.weights3 = np.random.randn(hidden_size2, output_size) * 0.1\n",
        "        self.bias3 = np.zeros((1, output_size))\n",
        "\n",
        "    def forward(self, X):\n",
        "        # Input to first hidden layer\n",
        "        self.z1 = np.dot(X, self.weights1) + self.bias1\n",
        "        self.a1 = np.maximum(0, self.z1)  # ReLU activation\n",
        "\n",
        "        # First hidden layer to second hidden layer\n",
        "        self.z2 = np.dot(self.a1, self.weights2) + self.bias2\n",
        "        self.a2 = np.maximum(0, self.z2)  # ReLU activation\n",
        "\n",
        "        # Second hidden layer to output layer\n",
        "        self.z3 = np.dot(self.a2, self.weights3) + self.bias3\n",
        "        return self.z3  # No activation for the output layer\n",
        "\n",
        "    def backward(self, X, y, output):\n",
        "        # Calculate gradients for the output layer\n",
        "        dvalues = 2 * (output - y) / y.size\n",
        "        self.dweights3 = np.dot(self.a2.T, dvalues)\n",
        "        self.dbias3 = np.sum(dvalues, axis=0, keepdims=True)\n",
        "        d_a2 = np.dot(dvalues, self.weights3.T)\n",
        "\n",
        "        # Apply ReLU backward for the second hidden layer\n",
        "        d_a2[self.a2 <= 0] = 0\n",
        "        self.dweights2 = np.dot(self.a1.T, d_a2)\n",
        "        self.dbias2 = np.sum(d_a2, axis=0, keepdims=True)\n",
        "        d_a1 = np.dot(d_a2, self.weights2.T)\n",
        "\n",
        "        # Apply ReLU backward for the first hidden layer\n",
        "        d_a1[self.a1 <= 0] = 0\n",
        "        self.dweights1 = np.dot(X.T, d_a1)\n",
        "        self.dbias1 = np.sum(d_a1, axis=0, keepdims=True)\n",
        "\n",
        "    def update_parameters(self, learning_rate):\n",
        "        # Update the weights and biases using the gradients from backward\n",
        "        self.weights1 -= learning_rate * self.dweights1\n",
        "        self.bias1 -= learning_rate * self.dbias1\n",
        "        self.weights2 -= learning_rate * self.dweights2\n",
        "        self.bias2 -= learning_rate * self.dbias2\n",
        "        self.weights3 -= learning_rate * self.dweights3\n",
        "        self.bias3 -= learning_rate * self.dbias3\n"
      ]
    },
    {
      "cell_type": "code",
      "source": [
        "class ReLU:\n",
        "    def forward(self, inputs):\n",
        "        self.inputs = inputs\n",
        "        self.output = np.maximum(0, inputs)\n",
        "        return self.output\n",
        "\n",
        "    def backward(self, dvalues):\n",
        "        self.dinputs = dvalues.copy()\n",
        "        self.dinputs[self.inputs <= 0] = 0\n",
        "        return self.dinputs\n"
      ],
      "metadata": {
        "id": "0T0wBG_T1km4"
      },
      "execution_count": null,
      "outputs": []
    },
    {
      "cell_type": "code",
      "source": [
        "class MSELoss:\n",
        "    def forward(self, predictions, targets):\n",
        "        # Calculate mean squared error\n",
        "        self.predictions = predictions\n",
        "        self.targets = targets\n",
        "        sample_losses = np.mean((predictions - targets) ** 2, axis=-1)  # Mean squared error per sample\n",
        "        return np.mean(sample_losses)  # Overall mean squared error\n",
        "\n",
        "    def backward(self):\n",
        "        # Gradient of MSE loss with respect to the predictions\n",
        "        self.dinputs = 2 * (self.predictions - self.targets) / self.targets.size\n",
        "        return self.dinputs\n",
        "\n"
      ],
      "metadata": {
        "id": "wI7mrin31oac"
      },
      "execution_count": null,
      "outputs": []
    },
    {
      "cell_type": "code",
      "source": [
        "import numpy as np\n",
        "\n",
        "# Data generation\n",
        "np.random.seed(0)\n",
        "X = np.random.rand(1000, 3)\n",
        "y = X @ np.array([1.5, -2., 1.]) + 0.5\n",
        "y = y.reshape(-1, 1)\n",
        "\n",
        "input_size = X.shape[1]\n",
        "hidden_size1 = 64\n",
        "hidden_size2 = 64\n",
        "output_size = 1\n",
        "network = NeuralNetwork(input_size, hidden_size1, hidden_size2, output_size)\n",
        "\n",
        "# Instantiate the loss function\n",
        "loss_function = MSELoss()\n",
        "\n",
        "# Define training parameters\n",
        "learning_rate = 0.01\n",
        "epochs = 1000\n",
        "\n",
        "# Training loop\n",
        "for epoch in range(epochs):\n",
        "    # Forward pass\n",
        "    predictions = network.forward(X)\n",
        "\n",
        "    # Calculate loss\n",
        "    loss = loss_function.forward(predictions, y)\n",
        "\n",
        "    # Backward pass (calculate gradients)\n",
        "    # Ensure backward method is corrected as discussed\n",
        "    dvalues = loss_function.backward()  # This needs adjustment to match your implementation\n",
        "    network.backward(X, y, predictions)\n",
        "\n",
        "    # Update network parameters\n",
        "    network.update_parameters(learning_rate)\n",
        "\n",
        "    # Optionally print the loss at certain intervals\n",
        "    if epoch % 100 == 0:\n",
        "        print(f\"Epoch {epoch}, Loss: {loss}\")\n"
      ],
      "metadata": {
        "colab": {
          "base_uri": "https://localhost:8080/"
        },
        "id": "acodbl2i7XSM",
        "outputId": "fbdd514d-bb0b-4188-9324-9da4564b0ba9"
      },
      "execution_count": null,
      "outputs": [
        {
          "output_type": "stream",
          "name": "stdout",
          "text": [
            "Epoch 0, Loss: 1.2489425022776073\n",
            "Epoch 100, Loss: 0.5324440026175669\n",
            "Epoch 200, Loss: 0.3722095675461662\n",
            "Epoch 300, Loss: 0.1666979420600178\n",
            "Epoch 400, Loss: 0.044124444092422783\n",
            "Epoch 500, Loss: 0.012941489608402777\n",
            "Epoch 600, Loss: 0.006809485393597196\n",
            "Epoch 700, Loss: 0.004621909598283907\n",
            "Epoch 800, Loss: 0.003402765782158795\n",
            "Epoch 900, Loss: 0.002614256636146956\n"
          ]
        }
      ]
    }
  ]
}