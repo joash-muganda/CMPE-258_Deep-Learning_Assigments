{
  "nbformat": 4,
  "nbformat_minor": 0,
  "metadata": {
    "colab": {
      "provenance": []
    },
    "kernelspec": {
      "name": "python3",
      "display_name": "Python 3"
    },
    "language_info": {
      "name": "python"
    }
  },
  "cells": [
    {
      "cell_type": "markdown",
      "source": [
        "# **Define the Network Architecture**"
      ],
      "metadata": {
        "id": "_co2WMvaZ0GR"
      }
    },
    {
      "cell_type": "code",
      "source": [
        "import torch\n",
        "import torch.nn as nn\n",
        "import torch.nn.functional as F\n",
        "\n",
        "class ThreeLayerNet(nn.Module):\n",
        "    def __init__(self, input_size, hidden_size, output_size):\n",
        "        super(ThreeLayerNet, self).__init__()\n",
        "        # Define the first hidden layer\n",
        "        self.hidden1 = nn.Linear(input_size, hidden_size)\n",
        "        # Define the second hidden layer\n",
        "        self.hidden2 = nn.Linear(hidden_size, hidden_size)\n",
        "        # Define the output layer\n",
        "        self.output = nn.Linear(hidden_size, output_size)\n",
        "\n",
        "    def forward(self, x):\n",
        "        # Pass the input through the first hidden layer and apply the ReLU activation function\n",
        "        x = F.relu(self.hidden1(x))\n",
        "        # Pass through the second hidden layer and apply the ReLU activation function\n",
        "        x = F.relu(self.hidden2(x))\n",
        "        # Pass through the output layer\n",
        "        x = self.output(x)\n",
        "        return x\n"
      ],
      "metadata": {
        "id": "mgB7wkMjZ-hy"
      },
      "execution_count": null,
      "outputs": []
    },
    {
      "cell_type": "markdown",
      "source": [
        "# **Instantiate the Network and Prepare for Training**"
      ],
      "metadata": {
        "id": "agHWJwZwaOP6"
      }
    },
    {
      "cell_type": "code",
      "source": [
        "# Instantiate the neural network\n",
        "input_size = 3  # Since we have three input features\n",
        "hidden_size = 64  # Example hidden layer size\n",
        "output_size = 1  # We're doing regression, so we need one output value\n",
        "\n",
        "model = ThreeLayerNet(input_size, hidden_size, output_size)\n",
        "\n",
        "# Loss function\n",
        "criterion = nn.MSELoss()\n",
        "\n",
        "# Optimizer\n",
        "optimizer = torch.optim.Adam(model.parameters(), lr=0.001)\n"
      ],
      "metadata": {
        "id": "NYzkF0eNapF8"
      },
      "execution_count": null,
      "outputs": []
    },
    {
      "cell_type": "markdown",
      "source": [
        "# **Generate Synthetic Data and Prepare DataLoader**"
      ],
      "metadata": {
        "id": "XjjDXMp2az3i"
      }
    },
    {
      "cell_type": "code",
      "source": [
        "import numpy as np\n",
        "import torch\n",
        "from torch.utils.data import TensorDataset, DataLoader\n",
        "\n",
        "# Parameters for the equation\n",
        "a, b, c, d = 2, 1.5, -3, 0.5\n",
        "\n",
        "# Generate synthetic data\n",
        "np.random.seed(42)  # For reproducibility\n",
        "x1 = np.random.uniform(-1, 1, 1000)\n",
        "x2 = np.random.uniform(-1, 1, 1000)\n",
        "x3 = np.random.uniform(-1, 1, 1000)\n",
        "y = a * (x1 ** 2) + b * x2 + c * np.sin(x3) + d\n",
        "\n",
        "# Combine x1, x2, x3 into a single array\n",
        "X = np.vstack((x1, x2, x3)).T\n",
        "\n",
        "# Split the data into training and testing sets\n",
        "train_size = int(0.8 * len(X))  # 80% of data for training\n",
        "X_train, X_test = X[:train_size], X[train_size:]\n",
        "y_train, y_test = y[:train_size], y[train_size:]\n",
        "\n",
        "# Convert the numpy arrays to PyTorch tensors\n",
        "X_train_tensor = torch.tensor(X_train, dtype=torch.float32)\n",
        "y_train_tensor = torch.tensor(y_train, dtype=torch.float32).view(-1, 1)\n",
        "X_test_tensor = torch.tensor(X_test, dtype=torch.float32)\n",
        "y_test_tensor = torch.tensor(y_test, dtype=torch.float32).view(-1, 1)\n",
        "\n",
        "# Create datasets from tensors\n",
        "train_dataset = TensorDataset(X_train_tensor, y_train_tensor)\n",
        "test_dataset = TensorDataset(X_test_tensor, y_test_tensor)\n",
        "\n",
        "# Create DataLoaders for the training and testing data\n",
        "train_loader = DataLoader(dataset=train_dataset, batch_size=32, shuffle=True)\n",
        "test_loader = DataLoader(dataset=test_dataset, batch_size=32, shuffle=False)\n"
      ],
      "metadata": {
        "id": "EBrKpXoBa65z"
      },
      "execution_count": null,
      "outputs": []
    },
    {
      "cell_type": "markdown",
      "source": [
        "# **Training Loop**"
      ],
      "metadata": {
        "id": "ynymAc_ddDTq"
      }
    },
    {
      "cell_type": "code",
      "source": [
        "# Number of epochs (iterations over the entire training dataset)\n",
        "num_epochs = 100\n",
        "\n",
        "# Track loss for plotting\n",
        "train_losses = []\n",
        "\n",
        "for epoch in range(num_epochs):\n",
        "    model.train()  # Set the model to training mode\n",
        "    batch_losses = []\n",
        "\n",
        "    for X_batch, y_batch in train_loader:\n",
        "        # Zero the gradients\n",
        "        optimizer.zero_grad()\n",
        "\n",
        "        # Perform forward pass\n",
        "        y_pred = model(X_batch)\n",
        "\n",
        "        # Compute loss\n",
        "        loss = criterion(y_pred, y_batch)\n",
        "\n",
        "        # Backpropagation\n",
        "        loss.backward()\n",
        "\n",
        "        # Update the weights\n",
        "        optimizer.step()\n",
        "\n",
        "        # Record the batch loss\n",
        "        batch_losses.append(loss.item())\n",
        "\n",
        "    # Record the average loss for this epoch\n",
        "    avg_loss = np.mean(batch_losses)\n",
        "    train_losses.append(avg_loss)\n",
        "\n",
        "    # Print the average loss for the epoch\n",
        "    print(f'Epoch {epoch+1}/{num_epochs}, Loss: {avg_loss:.4f}')\n"
      ],
      "metadata": {
        "colab": {
          "base_uri": "https://localhost:8080/"
        },
        "id": "PZB5yu8SdNIz",
        "outputId": "d5951052-ad6e-449d-f006-781f56a2105b"
      },
      "execution_count": null,
      "outputs": [
        {
          "output_type": "stream",
          "name": "stdout",
          "text": [
            "Epoch 1/100, Loss: 4.3903\n",
            "Epoch 2/100, Loss: 2.5279\n",
            "Epoch 3/100, Loss: 0.8001\n",
            "Epoch 4/100, Loss: 0.2470\n",
            "Epoch 5/100, Loss: 0.1687\n",
            "Epoch 6/100, Loss: 0.1067\n",
            "Epoch 7/100, Loss: 0.0583\n",
            "Epoch 8/100, Loss: 0.0286\n",
            "Epoch 9/100, Loss: 0.0164\n",
            "Epoch 10/100, Loss: 0.0129\n",
            "Epoch 11/100, Loss: 0.0117\n",
            "Epoch 12/100, Loss: 0.0104\n",
            "Epoch 13/100, Loss: 0.0096\n",
            "Epoch 14/100, Loss: 0.0086\n",
            "Epoch 15/100, Loss: 0.0079\n",
            "Epoch 16/100, Loss: 0.0071\n",
            "Epoch 17/100, Loss: 0.0070\n",
            "Epoch 18/100, Loss: 0.0064\n",
            "Epoch 19/100, Loss: 0.0059\n",
            "Epoch 20/100, Loss: 0.0056\n",
            "Epoch 21/100, Loss: 0.0051\n",
            "Epoch 22/100, Loss: 0.0050\n",
            "Epoch 23/100, Loss: 0.0047\n",
            "Epoch 24/100, Loss: 0.0045\n",
            "Epoch 25/100, Loss: 0.0043\n",
            "Epoch 26/100, Loss: 0.0041\n",
            "Epoch 27/100, Loss: 0.0041\n",
            "Epoch 28/100, Loss: 0.0038\n",
            "Epoch 29/100, Loss: 0.0036\n",
            "Epoch 30/100, Loss: 0.0035\n",
            "Epoch 31/100, Loss: 0.0034\n",
            "Epoch 32/100, Loss: 0.0034\n",
            "Epoch 33/100, Loss: 0.0033\n",
            "Epoch 34/100, Loss: 0.0032\n",
            "Epoch 35/100, Loss: 0.0029\n",
            "Epoch 36/100, Loss: 0.0028\n",
            "Epoch 37/100, Loss: 0.0028\n",
            "Epoch 38/100, Loss: 0.0026\n",
            "Epoch 39/100, Loss: 0.0027\n",
            "Epoch 40/100, Loss: 0.0025\n",
            "Epoch 41/100, Loss: 0.0025\n",
            "Epoch 42/100, Loss: 0.0025\n",
            "Epoch 43/100, Loss: 0.0023\n",
            "Epoch 44/100, Loss: 0.0024\n",
            "Epoch 45/100, Loss: 0.0023\n",
            "Epoch 46/100, Loss: 0.0022\n",
            "Epoch 47/100, Loss: 0.0022\n",
            "Epoch 48/100, Loss: 0.0023\n",
            "Epoch 49/100, Loss: 0.0022\n",
            "Epoch 50/100, Loss: 0.0020\n",
            "Epoch 51/100, Loss: 0.0019\n",
            "Epoch 52/100, Loss: 0.0019\n",
            "Epoch 53/100, Loss: 0.0018\n",
            "Epoch 54/100, Loss: 0.0018\n",
            "Epoch 55/100, Loss: 0.0017\n",
            "Epoch 56/100, Loss: 0.0017\n",
            "Epoch 57/100, Loss: 0.0018\n",
            "Epoch 58/100, Loss: 0.0016\n",
            "Epoch 59/100, Loss: 0.0016\n",
            "Epoch 60/100, Loss: 0.0016\n",
            "Epoch 61/100, Loss: 0.0016\n",
            "Epoch 62/100, Loss: 0.0015\n",
            "Epoch 63/100, Loss: 0.0016\n",
            "Epoch 64/100, Loss: 0.0017\n",
            "Epoch 65/100, Loss: 0.0016\n",
            "Epoch 66/100, Loss: 0.0015\n",
            "Epoch 67/100, Loss: 0.0013\n",
            "Epoch 68/100, Loss: 0.0013\n",
            "Epoch 69/100, Loss: 0.0013\n",
            "Epoch 70/100, Loss: 0.0014\n",
            "Epoch 71/100, Loss: 0.0013\n",
            "Epoch 72/100, Loss: 0.0012\n",
            "Epoch 73/100, Loss: 0.0013\n",
            "Epoch 74/100, Loss: 0.0012\n",
            "Epoch 75/100, Loss: 0.0011\n",
            "Epoch 76/100, Loss: 0.0011\n",
            "Epoch 77/100, Loss: 0.0012\n",
            "Epoch 78/100, Loss: 0.0011\n",
            "Epoch 79/100, Loss: 0.0011\n",
            "Epoch 80/100, Loss: 0.0011\n",
            "Epoch 81/100, Loss: 0.0010\n",
            "Epoch 82/100, Loss: 0.0011\n",
            "Epoch 83/100, Loss: 0.0010\n",
            "Epoch 84/100, Loss: 0.0010\n",
            "Epoch 85/100, Loss: 0.0010\n",
            "Epoch 86/100, Loss: 0.0010\n",
            "Epoch 87/100, Loss: 0.0009\n",
            "Epoch 88/100, Loss: 0.0011\n",
            "Epoch 89/100, Loss: 0.0011\n",
            "Epoch 90/100, Loss: 0.0009\n",
            "Epoch 91/100, Loss: 0.0009\n",
            "Epoch 92/100, Loss: 0.0009\n",
            "Epoch 93/100, Loss: 0.0009\n",
            "Epoch 94/100, Loss: 0.0009\n",
            "Epoch 95/100, Loss: 0.0010\n",
            "Epoch 96/100, Loss: 0.0011\n",
            "Epoch 97/100, Loss: 0.0009\n",
            "Epoch 98/100, Loss: 0.0008\n",
            "Epoch 99/100, Loss: 0.0009\n",
            "Epoch 100/100, Loss: 0.0009\n"
          ]
        }
      ]
    },
    {
      "cell_type": "markdown",
      "source": [
        "# **Evaluate the Model on Test Data**"
      ],
      "metadata": {
        "id": "yu516WOHdfYy"
      }
    },
    {
      "cell_type": "code",
      "source": [
        "# Set the model to evaluation mode\n",
        "model.eval()\n",
        "\n",
        "# No need to track the gradients, since we are not updating the weights\n",
        "with torch.no_grad():\n",
        "    # Run the model on the test data\n",
        "    y_test_pred = model(X_test_tensor)\n",
        "\n",
        "# Calculate the test loss\n",
        "test_loss = criterion(y_test_pred, y_test_tensor).item()\n",
        "print(f'Test Loss: {test_loss:.4f}')\n",
        "\n",
        "# Convert predictions and actual values to numpy arrays for plotting\n",
        "y_test_pred = y_test_pred.numpy()\n",
        "y_test_actual = y_test_tensor.numpy()\n",
        "\n",
        "# Visualizing the test results\n",
        "import matplotlib.pyplot as plt\n",
        "\n",
        "plt.figure(figsize=(10, 6))\n",
        "plt.scatter(y_test_actual, y_test_pred, alpha=0.6)\n",
        "plt.xlabel('Actual Values')\n",
        "plt.ylabel('Predicted Values')\n",
        "plt.title('Predicted vs. Actual Values on Test Data')\n",
        "plt.plot([y_test_actual.min(), y_test_actual.max()], [y_test_actual.min(), y_test_actual.max()], 'k--', lw=2)\n",
        "plt.show()\n"
      ],
      "metadata": {
        "colab": {
          "base_uri": "https://localhost:8080/",
          "height": 581
        },
        "id": "zS2Cnk6UdkuJ",
        "outputId": "73d83d5a-f78b-4958-b95e-b4a60574b3e8"
      },
      "execution_count": null,
      "outputs": [
        {
          "output_type": "stream",
          "name": "stdout",
          "text": [
            "Test Loss: 0.0014\n"
          ]
        },
        {
          "output_type": "display_data",
          "data": {
            "text/plain": [
              "<Figure size 1000x600 with 1 Axes>"
            ],
            "image/png": "[encoded data removed]"
          },
          "metadata": {}
        }
      ]
    }
  ]
}