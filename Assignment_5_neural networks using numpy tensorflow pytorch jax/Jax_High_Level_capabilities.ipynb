{
  "nbformat": 4,
  "nbformat_minor": 0,
  "metadata": {
    "colab": {
      "provenance": []
    },
    "kernelspec": {
      "name": "python3",
      "display_name": "Python 3"
    },
    "language_info": {
      "name": "python"
    }
  },
  "cells": [
    {
      "cell_type": "code",
      "execution_count": null,
      "metadata": {
        "colab": {
          "base_uri": "https://localhost:8080/"
        },
        "id": "0l1r5G5DSRh7",
        "outputId": "f4b9e948-5d6b-42d8-95dd-8ecb1b2b3385"
      },
      "outputs": [
        {
          "output_type": "stream",
          "name": "stdout",
          "text": [
            "Requirement already satisfied: flax in /usr/local/lib/python3.10/dist-packages (0.8.2)\n",
            "Requirement already satisfied: numpy>=1.22 in /usr/local/lib/python3.10/dist-packages (from flax) (1.25.2)\n",
            "Requirement already satisfied: jax>=0.4.19 in /usr/local/lib/python3.10/dist-packages (from flax) (0.4.25)\n",
            "Requirement already satisfied: msgpack in /usr/local/lib/python3.10/dist-packages (from flax) (1.0.8)\n",
            "Requirement already satisfied: optax in /usr/local/lib/python3.10/dist-packages (from flax) (0.2.2)\n",
            "Requirement already satisfied: orbax-checkpoint in /usr/local/lib/python3.10/dist-packages (from flax) (0.4.4)\n",
            "Requirement already satisfied: tensorstore in /usr/local/lib/python3.10/dist-packages (from flax) (0.1.45)\n",
            "Requirement already satisfied: rich>=11.1 in /usr/local/lib/python3.10/dist-packages (from flax) (13.7.1)\n",
            "Requirement already satisfied: typing-extensions>=4.2 in /usr/local/lib/python3.10/dist-packages (from flax) (4.10.0)\n",
            "Requirement already satisfied: PyYAML>=5.4.1 in /usr/local/lib/python3.10/dist-packages (from flax) (6.0.1)\n",
            "Requirement already satisfied: ml-dtypes>=0.2.0 in /usr/local/lib/python3.10/dist-packages (from jax>=0.4.19->flax) (0.2.0)\n",
            "Requirement already satisfied: opt-einsum in /usr/local/lib/python3.10/dist-packages (from jax>=0.4.19->flax) (3.3.0)\n",
            "Requirement already satisfied: scipy>=1.9 in /usr/local/lib/python3.10/dist-packages (from jax>=0.4.19->flax) (1.11.4)\n",
            "Requirement already satisfied: markdown-it-py>=2.2.0 in /usr/local/lib/python3.10/dist-packages (from rich>=11.1->flax) (3.0.0)\n",
            "Requirement already satisfied: pygments<3.0.0,>=2.13.0 in /usr/local/lib/python3.10/dist-packages (from rich>=11.1->flax) (2.16.1)\n",
            "Requirement already satisfied: absl-py>=0.7.1 in /usr/local/lib/python3.10/dist-packages (from optax->flax) (1.4.0)\n",
            "Requirement already satisfied: chex>=0.1.86 in /usr/local/lib/python3.10/dist-packages (from optax->flax) (0.1.86)\n",
            "Requirement already satisfied: jaxlib>=0.1.37 in /usr/local/lib/python3.10/dist-packages (from optax->flax) (0.4.25)\n",
            "Requirement already satisfied: etils[epath,epy] in /usr/local/lib/python3.10/dist-packages (from orbax-checkpoint->flax) (1.7.0)\n",
            "Requirement already satisfied: nest_asyncio in /usr/local/lib/python3.10/dist-packages (from orbax-checkpoint->flax) (1.6.0)\n",
            "Requirement already satisfied: protobuf in /usr/local/lib/python3.10/dist-packages (from orbax-checkpoint->flax) (3.20.3)\n",
            "Requirement already satisfied: toolz>=0.9.0 in /usr/local/lib/python3.10/dist-packages (from chex>=0.1.86->optax->flax) (0.12.1)\n",
            "Requirement already satisfied: mdurl~=0.1 in /usr/local/lib/python3.10/dist-packages (from markdown-it-py>=2.2.0->rich>=11.1->flax) (0.1.2)\n",
            "Requirement already satisfied: fsspec in /usr/local/lib/python3.10/dist-packages (from etils[epath,epy]->orbax-checkpoint->flax) (2023.6.0)\n",
            "Requirement already satisfied: importlib_resources in /usr/local/lib/python3.10/dist-packages (from etils[epath,epy]->orbax-checkpoint->flax) (6.4.0)\n",
            "Requirement already satisfied: zipp in /usr/local/lib/python3.10/dist-packages (from etils[epath,epy]->orbax-checkpoint->flax) (3.18.1)\n"
          ]
        }
      ],
      "source": [
        "!pip install flax\n"
      ]
    },
    {
      "cell_type": "code",
      "source": [
        "!pip install --upgrade jax jaxlib\n"
      ],
      "metadata": {
        "colab": {
          "base_uri": "https://localhost:8080/"
        },
        "id": "IO5fznz4Te7C",
        "outputId": "9395101b-5940-4f8e-fb7d-d60fa3954fbd"
      },
      "execution_count": null,
      "outputs": [
        {
          "output_type": "stream",
          "name": "stdout",
          "text": [
            "Requirement already satisfied: jax in /usr/local/lib/python3.10/dist-packages (0.4.25)\n",
            "Requirement already satisfied: jaxlib in /usr/local/lib/python3.10/dist-packages (0.4.25)\n",
            "Requirement already satisfied: ml-dtypes>=0.2.0 in /usr/local/lib/python3.10/dist-packages (from jax) (0.2.0)\n",
            "Requirement already satisfied: numpy>=1.22 in /usr/local/lib/python3.10/dist-packages (from jax) (1.25.2)\n",
            "Requirement already satisfied: opt-einsum in /usr/local/lib/python3.10/dist-packages (from jax) (3.3.0)\n",
            "Requirement already satisfied: scipy>=1.9 in /usr/local/lib/python3.10/dist-packages (from jax) (1.11.4)\n"
          ]
        }
      ]
    },
    {
      "cell_type": "code",
      "source": [
        "import jax\n",
        "import jax.numpy as jnp\n",
        "from jax import random, grad, value_and_grad\n",
        "import flax.linen as nn\n",
        "from sklearn.model_selection import train_test_split\n",
        "import numpy as np\n",
        "import optax\n",
        "\n",
        "# Data generation function\n",
        "def generate_data(num_samples=1000):\n",
        "    x = np.random.uniform(-2, 2, size=(num_samples, 3))\n",
        "    y = np.sin(x[:, 0]) + np.cos(x[:, 1]) ** 2 + np.sin(x[:, 2] ** 2)\n",
        "    return x, y\n",
        "\n",
        "x, y = generate_data()\n",
        "x_train, x_test, y_train, y_test = train_test_split(x, y, test_size=0.2, random_state=42)\n",
        "\n",
        "# Neural Network Model\n",
        "class ThreeLayerNet(nn.Module):\n",
        "    @nn.compact\n",
        "    def __call__(self, x):\n",
        "        x = nn.Dense(features=64)(x)\n",
        "        x = nn.relu(x)\n",
        "        x = nn.Dense(features=64)(x)\n",
        "        x = nn.relu(x)\n",
        "        x = nn.Dense(features=1)(x)\n",
        "        return x\n",
        "\n",
        "# Initialize model\n",
        "rng = random.PRNGKey(0)\n",
        "model = ThreeLayerNet()\n",
        "params = model.init(rng, jnp.ones((1, 3)))['params']\n",
        "\n",
        "# Training function\n",
        "def train(params, x_train, y_train, epochs=1000, lr=0.01):\n",
        "    # Define optimizer\n",
        "    optimizer = optax.adam(lr)\n",
        "    opt_state = optimizer.init(params)\n",
        "\n",
        "    # Loss function\n",
        "    def loss_fn(params, x, y):\n",
        "        preds = model.apply({'params': params}, x)\n",
        "        return jnp.mean((preds - y) ** 2)\n",
        "\n",
        "    # Training loop\n",
        "    for epoch in range(epochs):\n",
        "        loss, grads = value_and_grad(loss_fn)(params, x_train, y_train)\n",
        "        updates, opt_state = optimizer.update(grads, opt_state)\n",
        "        params = optax.apply_updates(params, updates)\n",
        "\n",
        "        if epoch % 100 == 0:\n",
        "            print(f\"Epoch {epoch}: Loss {loss}\")\n",
        "\n",
        "    return params\n",
        "\n",
        "# Convert data to JAX arrays\n",
        "x_train, y_train, x_test, y_test = map(jnp.array, [x_train, y_train, x_test, y_test])\n",
        "\n",
        "# Train the model\n",
        "final_params = train(params, x_train, y_train)\n",
        "\n",
        "# Evaluate the model\n",
        "preds = model.apply({'params': final_params}, x_test)\n",
        "loss = jnp.mean((preds - y_test) ** 2)\n",
        "print(f\"Test Loss: {loss}\")\n"
      ],
      "metadata": {
        "colab": {
          "base_uri": "https://localhost:8080/"
        },
        "id": "gi0aBnKKU9uE",
        "outputId": "ee90d115-2d10-4400-81ee-01d18671db68"
      },
      "execution_count": null,
      "outputs": [
        {
          "output_type": "stream",
          "name": "stdout",
          "text": [
            "Epoch 0: Loss 2.766568899154663\n",
            "Epoch 100: Loss 1.0411865711212158\n",
            "Epoch 200: Loss 1.0308400392532349\n",
            "Epoch 300: Loss 1.0302321910858154\n",
            "Epoch 400: Loss 1.0301039218902588\n",
            "Epoch 500: Loss 1.030031681060791\n",
            "Epoch 600: Loss 1.0299917459487915\n",
            "Epoch 700: Loss 1.0299668312072754\n",
            "Epoch 800: Loss 1.029952049255371\n",
            "Epoch 900: Loss 1.029942274093628\n",
            "Test Loss: 0.8185634016990662\n"
          ]
        }
      ]
    }
  ]
}